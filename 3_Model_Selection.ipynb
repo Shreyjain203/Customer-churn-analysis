{
 "cells": [
  {
   "cell_type": "code",
   "execution_count": 1,
   "id": "8b3dffc4",
   "metadata": {},
   "outputs": [],
   "source": [
    "import pandas as pd\n",
    "import matplotlib.pyplot as plt\n",
    "import numpy as np\n",
    "import statsmodels.api as sm\n",
    "import statsmodels.formula.api as smf"
   ]
  },
  {
   "cell_type": "code",
   "execution_count": 2,
   "id": "c06fd2f1",
   "metadata": {},
   "outputs": [],
   "source": [
    "# data load\n",
    "df = pd.read_pickle('/Users/sangjun/Desktop/MSDS_Course/MSDS_601/Final_Project/AfterWrangling.pkl')"
   ]
  },
  {
   "cell_type": "code",
   "execution_count": 3,
   "id": "7acc26b4",
   "metadata": {},
   "outputs": [
    {
     "name": "stdout",
     "output_type": "stream",
     "text": [
      "<class 'pandas.core.frame.DataFrame'>\n",
      "RangeIndex: 7043 entries, 0 to 7042\n",
      "Data columns (total 33 columns):\n",
      " #   Column             Non-Null Count  Dtype  \n",
      "---  ------             --------------  -----  \n",
      " 0   CustomerID         7043 non-null   object \n",
      " 1   Count              7043 non-null   int64  \n",
      " 2   Country            7043 non-null   object \n",
      " 3   State              7043 non-null   object \n",
      " 4   City               7043 non-null   object \n",
      " 5   Zip Code           7043 non-null   int64  \n",
      " 6   Lat Long           7043 non-null   object \n",
      " 7   Latitude           7043 non-null   float64\n",
      " 8   Longitude          7043 non-null   float64\n",
      " 9   Gender             7043 non-null   object \n",
      " 10  Senior Citizen     7043 non-null   object \n",
      " 11  Partner            7043 non-null   object \n",
      " 12  Dependents         7043 non-null   object \n",
      " 13  Tenure Months      7043 non-null   int64  \n",
      " 14  Phone Service      7043 non-null   object \n",
      " 15  Multiple Lines     7043 non-null   object \n",
      " 16  Internet Service   7043 non-null   object \n",
      " 17  Online Security    7043 non-null   object \n",
      " 18  Online Backup      7043 non-null   object \n",
      " 19  Device Protection  7043 non-null   object \n",
      " 20  Tech Support       7043 non-null   object \n",
      " 21  Streaming TV       7043 non-null   object \n",
      " 22  Streaming Movies   7043 non-null   object \n",
      " 23  Contract           7043 non-null   object \n",
      " 24  Paperless Billing  7043 non-null   object \n",
      " 25  Payment Method     7043 non-null   object \n",
      " 26  Monthly Charges    7043 non-null   float64\n",
      " 27  Total Charges      7043 non-null   float64\n",
      " 28  Churn Label        7043 non-null   object \n",
      " 29  Churn Value        7043 non-null   int64  \n",
      " 30  Churn Score        7043 non-null   int64  \n",
      " 31  CLTV               7043 non-null   int64  \n",
      " 32  Churn Reason       1869 non-null   object \n",
      "dtypes: float64(4), int64(6), object(23)\n",
      "memory usage: 1.8+ MB\n"
     ]
    }
   ],
   "source": [
    "df.info()"
   ]
  },
  {
   "cell_type": "code",
   "execution_count": 4,
   "id": "1a0fc3f3",
   "metadata": {},
   "outputs": [
    {
     "name": "stdout",
     "output_type": "stream",
     "text": [
      "<class 'pandas.core.frame.DataFrame'>\n",
      "RangeIndex: 7043 entries, 0 to 7042\n",
      "Data columns (total 22 columns):\n",
      " #   Column             Non-Null Count  Dtype  \n",
      "---  ------             --------------  -----  \n",
      " 0   Gender             7043 non-null   object \n",
      " 1   Senior_Citizen     7043 non-null   object \n",
      " 2   Partner            7043 non-null   object \n",
      " 3   Dependents         7043 non-null   object \n",
      " 4   Tenure_Months      7043 non-null   int64  \n",
      " 5   Phone_Service      7043 non-null   object \n",
      " 6   Multiple_Lines     7043 non-null   object \n",
      " 7   Internet_Service   7043 non-null   object \n",
      " 8   Online_Security    7043 non-null   object \n",
      " 9   Online_Backup      7043 non-null   object \n",
      " 10  Device_Protection  7043 non-null   object \n",
      " 11  Tech_Support       7043 non-null   object \n",
      " 12  Streaming_TV       7043 non-null   object \n",
      " 13  Streaming_Movies   7043 non-null   object \n",
      " 14  Contract           7043 non-null   object \n",
      " 15  Paperless_Billing  7043 non-null   object \n",
      " 16  Payment_Method     7043 non-null   object \n",
      " 17  Monthly_Charges    7043 non-null   float64\n",
      " 18  Total_Charges      7043 non-null   float64\n",
      " 19  Churn_Label        7043 non-null   object \n",
      " 20  Churn_Score        7043 non-null   int64  \n",
      " 21  CLTV               7043 non-null   int64  \n",
      "dtypes: float64(2), int64(3), object(17)\n",
      "memory usage: 1.2+ MB\n"
     ]
    }
   ],
   "source": [
    "df.columns = df.columns.str.replace(' ', '_')\n",
    "df = df.drop(['Churn_Reason', 'CustomerID', 'Country', 'State', \n",
    "              'City', 'Lat_Long', 'Count', 'Latitude', 'Longitude', \n",
    "              'Churn_Value', 'Zip_Code'], axis=1)\n",
    "df.info()"
   ]
  },
  {
   "cell_type": "code",
   "execution_count": 5,
   "id": "05773304",
   "metadata": {},
   "outputs": [
    {
     "data": {
      "text/plain": [
       "Index(['Tenure_Months', 'Monthly_Charges', 'Total_Charges', 'Churn_Score',\n",
       "       'CLTV'],\n",
       "      dtype='object')"
      ]
     },
     "execution_count": 5,
     "metadata": {},
     "output_type": "execute_result"
    }
   ],
   "source": [
    "df_cat_index = df.select_dtypes(include=['object', 'category']).columns\n",
    "df_cat_index\n",
    "\n",
    "df_numeric_index = df.select_dtypes(include=['int', 'float']).columns\n",
    "df_numeric_index"
   ]
  },
  {
   "cell_type": "code",
   "execution_count": 6,
   "id": "37b55070",
   "metadata": {},
   "outputs": [],
   "source": [
    "df_cat = df[df_cat_index]\n",
    "df_numeric = df[df_numeric_index]"
   ]
  },
  {
   "cell_type": "markdown",
   "id": "cdbc1b47",
   "metadata": {},
   "source": [
    "## Check Multicollinearity"
   ]
  },
  {
   "cell_type": "code",
   "execution_count": 7,
   "id": "99a14ae5",
   "metadata": {},
   "outputs": [
    {
     "name": "stdout",
     "output_type": "stream",
     "text": [
      "   VIF Factor         features\n",
      "0   34.186041        Intercept\n",
      "1    5.952947    Tenure_Months\n",
      "2    3.340829  Monthly_Charges\n",
      "3    9.611085    Total_Charges\n",
      "4    1.106657      Churn_Score\n",
      "5    1.189480             CLTV\n"
     ]
    }
   ],
   "source": [
    "# VIF\n",
    "formula = 'Churn_Label ~ Tenure_Months+Monthly_Charges+Total_Charges+Churn_Score+CLTV'\n",
    "from statsmodels.stats.outliers_influence import variance_inflation_factor\n",
    "from patsy import dmatrices\n",
    "y, X = dmatrices(formula, data=df, return_type='dataframe')\n",
    "\n",
    "vif = pd.DataFrame()\n",
    "vif[\"VIF Factor\"] = [variance_inflation_factor(X.values, i) for i in range(X.shape[1])]\n",
    "vif[\"features\"] = X.columns\n",
    "print(vif)"
   ]
  },
  {
   "cell_type": "markdown",
   "id": "34f366a6",
   "metadata": {},
   "source": [
    "Total_Charges is close to 10. It's not a serious multicolinearity problem, but we still have to check later. "
   ]
  },
  {
   "cell_type": "code",
   "execution_count": 8,
   "id": "79ef8112",
   "metadata": {},
   "outputs": [
    {
     "name": "stderr",
     "output_type": "stream",
     "text": [
      "/opt/homebrew/anaconda3/lib/python3.11/site-packages/sklearn/preprocessing/_encoders.py:972: FutureWarning: `sparse` was renamed to `sparse_output` in version 1.2 and will be removed in 1.4. `sparse_output` is ignored unless you leave `sparse` to its default value.\n",
      "  warnings.warn(\n",
      "/var/folders/yx/vpn4pp6d44z8vryqc0zfxyp40000gn/T/ipykernel_85708/3501188714.py:45: RuntimeWarning: divide by zero encountered in scalar divide\n",
      "  gvif = (1 / (1 - rsquared))**(1 / (2 * (model.df_model + 1)))\n",
      "/var/folders/yx/vpn4pp6d44z8vryqc0zfxyp40000gn/T/ipykernel_85708/3501188714.py:45: RuntimeWarning: divide by zero encountered in scalar divide\n",
      "  gvif = (1 / (1 - rsquared))**(1 / (2 * (model.df_model + 1)))\n",
      "/var/folders/yx/vpn4pp6d44z8vryqc0zfxyp40000gn/T/ipykernel_85708/3501188714.py:45: RuntimeWarning: divide by zero encountered in scalar divide\n",
      "  gvif = (1 / (1 - rsquared))**(1 / (2 * (model.df_model + 1)))\n",
      "/var/folders/yx/vpn4pp6d44z8vryqc0zfxyp40000gn/T/ipykernel_85708/3501188714.py:45: RuntimeWarning: divide by zero encountered in scalar divide\n",
      "  gvif = (1 / (1 - rsquared))**(1 / (2 * (model.df_model + 1)))\n"
     ]
    },
    {
     "name": "stdout",
     "output_type": "stream",
     "text": [
      "                                   Feature      GVIF\n",
      "0                              Gender_Male  1.000033\n",
      "1                       Senior_Citizen_Yes  1.003147\n",
      "2                              Partner_Yes  1.006596\n",
      "3                           Dependents_Yes  1.005621\n",
      "4                        Phone_Service_Yes  1.065889\n",
      "5          Multiple_Lines_No phone service  1.018535\n",
      "6                       Multiple_Lines_Yes  1.007627\n",
      "7             Internet_Service_Fiber optic  1.017668\n",
      "8                      Internet_Service_No       inf\n",
      "9      Online_Security_No internet service       inf\n",
      "10                     Online_Security_Yes  1.008107\n",
      "11       Online_Backup_No internet service       inf\n",
      "12                       Online_Backup_Yes  1.007024\n",
      "13   Device_Protection_No internet service       inf\n",
      "14                   Device_Protection_Yes  1.009556\n",
      "15        Tech_Support_No internet service       inf\n",
      "16                        Tech_Support_Yes  1.009884\n",
      "17        Streaming_TV_No internet service       inf\n",
      "18                        Streaming_TV_Yes  1.012015\n",
      "19    Streaming_Movies_No internet service       inf\n",
      "20                    Streaming_Movies_Yes  1.012447\n",
      "21                       Contract_One year  1.008016\n",
      "22                       Contract_Two year  1.016029\n",
      "23                   Paperless_Billing_Yes  1.004567\n",
      "24  Payment_Method_Credit card (automatic)  1.011190\n",
      "25         Payment_Method_Electronic check  1.016619\n",
      "26             Payment_Method_Mailed check  1.014311\n"
     ]
    },
    {
     "name": "stderr",
     "output_type": "stream",
     "text": [
      "/var/folders/yx/vpn4pp6d44z8vryqc0zfxyp40000gn/T/ipykernel_85708/3501188714.py:45: RuntimeWarning: divide by zero encountered in scalar divide\n",
      "  gvif = (1 / (1 - rsquared))**(1 / (2 * (model.df_model + 1)))\n",
      "/var/folders/yx/vpn4pp6d44z8vryqc0zfxyp40000gn/T/ipykernel_85708/3501188714.py:45: RuntimeWarning: divide by zero encountered in scalar divide\n",
      "  gvif = (1 / (1 - rsquared))**(1 / (2 * (model.df_model + 1)))\n",
      "/var/folders/yx/vpn4pp6d44z8vryqc0zfxyp40000gn/T/ipykernel_85708/3501188714.py:45: RuntimeWarning: divide by zero encountered in scalar divide\n",
      "  gvif = (1 / (1 - rsquared))**(1 / (2 * (model.df_model + 1)))\n"
     ]
    }
   ],
   "source": [
    "import pandas as pd\n",
    "import numpy as np\n",
    "from sklearn.preprocessing import OneHotEncoder\n",
    "from statsmodels.regression.linear_model import OLS\n",
    "from sklearn.model_selection import train_test_split\n",
    "\n",
    "def calculate_gvif(df, response_var):\n",
    "    # Drop rows with any null values\n",
    "    df = df.dropna()\n",
    "\n",
    "    # Handle categorical variables by one-hot encoding\n",
    "    categorical_cols = df.select_dtypes(include=['object', 'category']).columns\n",
    "    if response_var in categorical_cols:\n",
    "        categorical_cols = categorical_cols.drop(response_var)\n",
    "        \n",
    "    if len(categorical_cols) > 0:\n",
    "        encoder = OneHotEncoder(drop='first', sparse=False)\n",
    "        encoded_cols = pd.DataFrame(encoder.fit_transform(df[categorical_cols]))\n",
    "        \n",
    "        # Manually creating feature names for encoded columns\n",
    "        feature_names = [f\"{col}_{category}\" for col, categories in zip(categorical_cols, encoder.categories_) for category in categories[1:]]\n",
    "        encoded_cols.columns = feature_names\n",
    "\n",
    "        df = pd.concat([df.drop(categorical_cols, axis=1), encoded_cols], axis=1)\n",
    "\n",
    "    # Ensure all the predictor variables are numeric\n",
    "    if response_var in df.columns:\n",
    "        predictors = df.columns.drop(response_var)\n",
    "    else:\n",
    "        print(f\"Warning: {response_var} not found in DataFrame. Make sure the response variable is correctly named.\")\n",
    "        return pd.DataFrame(columns=[\"Feature\", \"GVIF\"])\n",
    "        \n",
    "    gvif_data = []\n",
    "\n",
    "    for feature in predictors:\n",
    "        try:\n",
    "            X = df.drop(columns=[feature, response_var])\n",
    "            y = df[feature]\n",
    "\n",
    "            # Split data to avoid multicollinearity\n",
    "            X_train, X_test, y_train, y_test = train_test_split(X, y, test_size=0.2, random_state=42)\n",
    "\n",
    "            model = OLS(y_train, X_train).fit()\n",
    "            rsquared = model.rsquared\n",
    "            gvif = (1 / (1 - rsquared))**(1 / (2 * (model.df_model + 1))) \n",
    "            gvif_data.append((feature, gvif))\n",
    "        except Exception as e:\n",
    "            print(f\"An error occurred when processing the feature {feature}: {e}\")\n",
    "            gvif_data.append((feature, None))\n",
    "\n",
    "    gvif_df = pd.DataFrame(gvif_data, columns=[\"Feature\", \"GVIF\"])\n",
    "    return gvif_df\n",
    "\n",
    "\n",
    "response_var = 'Churn_Label'  # replace with the name of your response variable\n",
    "gvif_values = calculate_gvif(df_cat, response_var)\n",
    "\n",
    "#gvif_values = calculate_gvif(df)\n",
    "print(gvif_values)"
   ]
  },
  {
   "cell_type": "markdown",
   "id": "e676ed29",
   "metadata": {},
   "source": [
    "Categorical variables: Internet_Service, Online_Security, Online_Backup, Device_Protection, Tech_Support, Streaming_TV, and Streaming_Movies have serious multicolinearity issue. Therefore, we are taking out these variables."
   ]
  },
  {
   "cell_type": "markdown",
   "id": "929b009f",
   "metadata": {},
   "source": [
    "### After VIF and GVIF"
   ]
  },
  {
   "cell_type": "code",
   "execution_count": 9,
   "id": "24f64de0",
   "metadata": {},
   "outputs": [
    {
     "name": "stdout",
     "output_type": "stream",
     "text": [
      "<class 'pandas.core.frame.DataFrame'>\n",
      "RangeIndex: 7043 entries, 0 to 7042\n",
      "Data columns (total 15 columns):\n",
      " #   Column             Non-Null Count  Dtype  \n",
      "---  ------             --------------  -----  \n",
      " 0   Gender             7043 non-null   object \n",
      " 1   Senior_Citizen     7043 non-null   object \n",
      " 2   Partner            7043 non-null   object \n",
      " 3   Dependents         7043 non-null   object \n",
      " 4   Tenure_Months      7043 non-null   int64  \n",
      " 5   Phone_Service      7043 non-null   object \n",
      " 6   Multiple_Lines     7043 non-null   object \n",
      " 7   Contract           7043 non-null   object \n",
      " 8   Paperless_Billing  7043 non-null   object \n",
      " 9   Payment_Method     7043 non-null   object \n",
      " 10  Monthly_Charges    7043 non-null   float64\n",
      " 11  Total_Charges      7043 non-null   float64\n",
      " 12  Churn_Label        7043 non-null   object \n",
      " 13  Churn_Score        7043 non-null   int64  \n",
      " 14  CLTV               7043 non-null   int64  \n",
      "dtypes: float64(2), int64(3), object(10)\n",
      "memory usage: 825.5+ KB\n"
     ]
    }
   ],
   "source": [
    "df = df.drop(['Internet_Service', 'Online_Security', 'Online_Backup', 'Device_Protection', \n",
    "              'Tech_Support', 'Streaming_TV', 'Streaming_Movies'], axis=1)\n",
    "df.info()"
   ]
  },
  {
   "cell_type": "markdown",
   "id": "7b440486",
   "metadata": {},
   "source": [
    "## Check Outliers"
   ]
  },
  {
   "cell_type": "code",
   "execution_count": 10,
   "id": "7f107254",
   "metadata": {},
   "outputs": [
    {
     "data": {
      "text/plain": [
       "0       Yes\n",
       "1       Yes\n",
       "2       Yes\n",
       "3       Yes\n",
       "4       Yes\n",
       "       ... \n",
       "7038     No\n",
       "7039     No\n",
       "7040     No\n",
       "7041     No\n",
       "7042     No\n",
       "Name: Churn_Label, Length: 7043, dtype: object"
      ]
     },
     "execution_count": 10,
     "metadata": {},
     "output_type": "execute_result"
    }
   ],
   "source": [
    "df['Churn_Label']"
   ]
  },
  {
   "cell_type": "code",
   "execution_count": 11,
   "id": "a9df537f",
   "metadata": {},
   "outputs": [],
   "source": [
    "df['Churn_Label'] = df['Churn_Label'].astype('category').cat.codes"
   ]
  },
  {
   "cell_type": "code",
   "execution_count": 12,
   "id": "9fa3e4ef",
   "metadata": {},
   "outputs": [
    {
     "name": "stdout",
     "output_type": "stream",
     "text": [
      "Gender                object\n",
      "Senior_Citizen        object\n",
      "Partner               object\n",
      "Dependents            object\n",
      "Tenure_Months          int64\n",
      "Phone_Service         object\n",
      "Multiple_Lines        object\n",
      "Contract              object\n",
      "Paperless_Billing     object\n",
      "Payment_Method        object\n",
      "Monthly_Charges      float64\n",
      "Total_Charges        float64\n",
      "Churn_Label             int8\n",
      "Churn_Score            int64\n",
      "CLTV                   int64\n",
      "dtype: object\n"
     ]
    }
   ],
   "source": [
    "print(df.dtypes)"
   ]
  },
  {
   "cell_type": "code",
   "execution_count": 13,
   "id": "77dc366d",
   "metadata": {},
   "outputs": [
    {
     "name": "stdout",
     "output_type": "stream",
     "text": [
      "<class 'pandas.core.frame.DataFrame'>\n",
      "RangeIndex: 7043 entries, 0 to 7042\n",
      "Data columns (total 28 columns):\n",
      " #   Column                                    Non-Null Count  Dtype  \n",
      "---  ------                                    --------------  -----  \n",
      " 0   Tenure_Months                             7043 non-null   int64  \n",
      " 1   Monthly_Charges                           7043 non-null   float64\n",
      " 2   Total_Charges                             7043 non-null   float64\n",
      " 3   Churn_Label                               7043 non-null   int8   \n",
      " 4   Churn_Score                               7043 non-null   int64  \n",
      " 5   CLTV                                      7043 non-null   int64  \n",
      " 6   Gender_Female                             7043 non-null   uint8  \n",
      " 7   Gender_Male                               7043 non-null   uint8  \n",
      " 8   Senior_Citizen_No                         7043 non-null   uint8  \n",
      " 9   Senior_Citizen_Yes                        7043 non-null   uint8  \n",
      " 10  Partner_No                                7043 non-null   uint8  \n",
      " 11  Partner_Yes                               7043 non-null   uint8  \n",
      " 12  Dependents_No                             7043 non-null   uint8  \n",
      " 13  Dependents_Yes                            7043 non-null   uint8  \n",
      " 14  Phone_Service_No                          7043 non-null   uint8  \n",
      " 15  Phone_Service_Yes                         7043 non-null   uint8  \n",
      " 16  Multiple_Lines_No                         7043 non-null   uint8  \n",
      " 17  Multiple_Lines_No phone service           7043 non-null   uint8  \n",
      " 18  Multiple_Lines_Yes                        7043 non-null   uint8  \n",
      " 19  Contract_Month-to-month                   7043 non-null   uint8  \n",
      " 20  Contract_One year                         7043 non-null   uint8  \n",
      " 21  Contract_Two year                         7043 non-null   uint8  \n",
      " 22  Paperless_Billing_No                      7043 non-null   uint8  \n",
      " 23  Paperless_Billing_Yes                     7043 non-null   uint8  \n",
      " 24  Payment_Method_Bank transfer (automatic)  7043 non-null   uint8  \n",
      " 25  Payment_Method_Credit card (automatic)    7043 non-null   uint8  \n",
      " 26  Payment_Method_Electronic check           7043 non-null   uint8  \n",
      " 27  Payment_Method_Mailed check               7043 non-null   uint8  \n",
      "dtypes: float64(2), int64(3), int8(1), uint8(22)\n",
      "memory usage: 433.4 KB\n"
     ]
    }
   ],
   "source": [
    "df = pd.get_dummies(df, columns=['Gender', 'Senior_Citizen', 'Partner',\n",
    "                                 'Dependents','Phone_Service','Multiple_Lines',\n",
    "                                'Contract', 'Paperless_Billing', 'Payment_Method'])\n",
    "df.info()"
   ]
  },
  {
   "cell_type": "code",
   "execution_count": 14,
   "id": "19ab39ca",
   "metadata": {},
   "outputs": [
    {
     "name": "stdout",
     "output_type": "stream",
     "text": [
      "Warning: Maximum number of iterations has been exceeded.\n",
      "         Current function value: 0.175861\n",
      "         Iterations: 35\n",
      "Indices of outliers: (array([  22,   65,  142,  157,  165,  369,  423,  504,  676,  757,  879,\n",
      "        883,  934,  994, 1084, 1088, 1121, 1147, 1243, 1254, 1261, 1378,\n",
      "       1414, 1445, 1457, 1532, 1572, 1584, 1589, 1658, 1696, 1700, 1701,\n",
      "       1721, 1800, 1855, 2086, 2267, 2896, 3559, 3589, 3615, 3922, 3981,\n",
      "       3999, 4012, 4018, 4344, 4355, 4518, 4624, 4714, 4870, 5284, 5570,\n",
      "       5580, 5676, 6145, 6169, 6228, 6811, 6998]),)\n"
     ]
    },
    {
     "name": "stderr",
     "output_type": "stream",
     "text": [
      "/opt/homebrew/anaconda3/lib/python3.11/site-packages/statsmodels/base/model.py:607: ConvergenceWarning: Maximum Likelihood optimization failed to converge. Check mle_retvals\n",
      "  warnings.warn(\"Maximum Likelihood optimization failed to \"\n"
     ]
    }
   ],
   "source": [
    "# Pearson Residual\n",
    "\n",
    "X = df.drop(columns=['Churn_Label'])\n",
    "y = df['Churn_Label']\n",
    "\n",
    "\n",
    "X = sm.add_constant(X)  # Adds a constant term to the predictor\n",
    "\n",
    "# Fit model\n",
    "model = sm.Logit(y, X)\n",
    "result = model.fit()\n",
    "\n",
    "# Calculate Pearson residuals\n",
    "pearson_residuals = result.resid_pearson\n",
    "\n",
    "# Set a threshold to identify an outlier\n",
    "threshold = 3   # This is an arbitrary threshold, adjust according to your analysis\n",
    "\n",
    "# Get the indices of the outliers\n",
    "outlier_indices = np.where(np.abs(pearson_residuals) > threshold)\n",
    "\n",
    "# Print the indices of the outliers\n",
    "print(\"Indices of outliers:\", outlier_indices)"
   ]
  },
  {
   "cell_type": "code",
   "execution_count": 15,
   "id": "3000a938",
   "metadata": {},
   "outputs": [
    {
     "name": "stdout",
     "output_type": "stream",
     "text": [
      "Warning: Maximum number of iterations has been exceeded.\n",
      "         Current function value: 0.175861\n",
      "         Iterations: 35\n",
      "Indices of outliers based on deviance residuals: (array([1261]),)\n"
     ]
    },
    {
     "name": "stderr",
     "output_type": "stream",
     "text": [
      "/opt/homebrew/anaconda3/lib/python3.11/site-packages/statsmodels/base/model.py:607: ConvergenceWarning: Maximum Likelihood optimization failed to converge. Check mle_retvals\n",
      "  warnings.warn(\"Maximum Likelihood optimization failed to \"\n"
     ]
    }
   ],
   "source": [
    "# Deviance Residual\n",
    "\n",
    "# Prepare data\n",
    "X = df.drop(columns=['Churn_Label'])\n",
    "y = df['Churn_Label']\n",
    "X = sm.add_constant(X)  # Adds a constant term to the predictor\n",
    "\n",
    "# Fit model\n",
    "model = sm.Logit(y, X)\n",
    "result = model.fit()\n",
    "\n",
    "# Calculate Deviance residuals\n",
    "deviance_residuals = result.resid_dev\n",
    "\n",
    "# Set a threshold to identify an outlier\n",
    "threshold = 3   # This is an arbitrary threshold, adjust according to your analysis\n",
    "\n",
    "# Get the indices of the outliers\n",
    "outlier_indices = np.where(np.abs(deviance_residuals) > threshold)\n",
    "\n",
    "# Print the indices of the outliers\n",
    "print(\"Indices of outliers based on deviance residuals:\", outlier_indices)"
   ]
  },
  {
   "cell_type": "markdown",
   "id": "9e954cff",
   "metadata": {},
   "source": [
    "Based on the two results, we decided to take out index 1261."
   ]
  },
  {
   "cell_type": "code",
   "execution_count": 16,
   "id": "7e24ad91",
   "metadata": {},
   "outputs": [
    {
     "name": "stdout",
     "output_type": "stream",
     "text": [
      "<class 'pandas.core.frame.DataFrame'>\n",
      "RangeIndex: 7042 entries, 0 to 7041\n",
      "Data columns (total 28 columns):\n",
      " #   Column                                    Non-Null Count  Dtype  \n",
      "---  ------                                    --------------  -----  \n",
      " 0   Tenure_Months                             7042 non-null   int64  \n",
      " 1   Monthly_Charges                           7042 non-null   float64\n",
      " 2   Total_Charges                             7042 non-null   float64\n",
      " 3   Churn_Label                               7042 non-null   int8   \n",
      " 4   Churn_Score                               7042 non-null   int64  \n",
      " 5   CLTV                                      7042 non-null   int64  \n",
      " 6   Gender_Female                             7042 non-null   uint8  \n",
      " 7   Gender_Male                               7042 non-null   uint8  \n",
      " 8   Senior_Citizen_No                         7042 non-null   uint8  \n",
      " 9   Senior_Citizen_Yes                        7042 non-null   uint8  \n",
      " 10  Partner_No                                7042 non-null   uint8  \n",
      " 11  Partner_Yes                               7042 non-null   uint8  \n",
      " 12  Dependents_No                             7042 non-null   uint8  \n",
      " 13  Dependents_Yes                            7042 non-null   uint8  \n",
      " 14  Phone_Service_No                          7042 non-null   uint8  \n",
      " 15  Phone_Service_Yes                         7042 non-null   uint8  \n",
      " 16  Multiple_Lines_No                         7042 non-null   uint8  \n",
      " 17  Multiple_Lines_No phone service           7042 non-null   uint8  \n",
      " 18  Multiple_Lines_Yes                        7042 non-null   uint8  \n",
      " 19  Contract_Month-to-month                   7042 non-null   uint8  \n",
      " 20  Contract_One year                         7042 non-null   uint8  \n",
      " 21  Contract_Two year                         7042 non-null   uint8  \n",
      " 22  Paperless_Billing_No                      7042 non-null   uint8  \n",
      " 23  Paperless_Billing_Yes                     7042 non-null   uint8  \n",
      " 24  Payment_Method_Bank transfer (automatic)  7042 non-null   uint8  \n",
      " 25  Payment_Method_Credit card (automatic)    7042 non-null   uint8  \n",
      " 26  Payment_Method_Electronic check           7042 non-null   uint8  \n",
      " 27  Payment_Method_Mailed check               7042 non-null   uint8  \n",
      "dtypes: float64(2), int64(3), int8(1), uint8(22)\n",
      "memory usage: 433.4 KB\n"
     ]
    }
   ],
   "source": [
    "df = df.drop(1261, errors='ignore')  \n",
    "df = df.reset_index(drop=True)\n",
    "df.info()"
   ]
  },
  {
   "cell_type": "code",
   "execution_count": 17,
   "id": "3bbbe390",
   "metadata": {},
   "outputs": [
    {
     "name": "stdout",
     "output_type": "stream",
     "text": [
      "Correlation between y and Tenure_Months: -0.35\n",
      "Correlation between y and Monthly_Charges: 0.19\n",
      "Correlation between y and Total_Charges: -0.20\n",
      "Correlation between y and Churn_Label: 1.00\n",
      "Correlation between y and Churn_Score: 0.66\n",
      "Correlation between y and CLTV: -0.13\n",
      "Correlation between y and Gender_Female: 0.01\n",
      "Correlation between y and Gender_Male: -0.01\n",
      "Correlation between y and Senior_Citizen_No: -0.15\n",
      "Correlation between y and Senior_Citizen_Yes: 0.15\n",
      "Correlation between y and Partner_No: 0.15\n",
      "Correlation between y and Partner_Yes: -0.15\n",
      "Correlation between y and Dependents_No: 0.25\n",
      "Correlation between y and Dependents_Yes: -0.25\n",
      "Correlation between y and Phone_Service_No: -0.01\n",
      "Correlation between y and Phone_Service_Yes: 0.01\n",
      "Correlation between y and Multiple_Lines_No: -0.03\n",
      "Correlation between y and Multiple_Lines_No phone service: -0.01\n",
      "Correlation between y and Multiple_Lines_Yes: 0.04\n",
      "Correlation between y and Contract_Month-to-month: 0.41\n",
      "Correlation between y and Contract_One year: -0.18\n",
      "Correlation between y and Contract_Two year: -0.30\n",
      "Correlation between y and Paperless_Billing_No: -0.19\n",
      "Correlation between y and Paperless_Billing_Yes: 0.19\n",
      "Correlation between y and Payment_Method_Bank transfer (automatic): -0.12\n",
      "Correlation between y and Payment_Method_Credit card (automatic): -0.13\n",
      "Correlation between y and Payment_Method_Electronic check: 0.30\n",
      "Correlation between y and Payment_Method_Mailed check: -0.09\n"
     ]
    }
   ],
   "source": [
    "import pandas as pd\n",
    "from scipy.stats import pointbiserialr\n",
    "\n",
    "\n",
    "# Calculating and printing the point-biserial correlation coefficients for each predictor\n",
    "for column in df.columns:\n",
    "    if column != 'y':  # Exclude the outcome variable\n",
    "        corr, _ = pointbiserialr(df['Churn_Label'], df[column])\n",
    "        print(f'Correlation between y and {column}: {corr:.2f}')\n"
   ]
  },
  {
   "cell_type": "markdown",
   "id": "54ddacb5",
   "metadata": {},
   "source": [
    "Based on the correlation, we have to delete 'Gender', 'Phone_Service', and 'Multiple_Lines'."
   ]
  },
  {
   "cell_type": "code",
   "execution_count": 19,
   "id": "e3757352",
   "metadata": {},
   "outputs": [
    {
     "name": "stdout",
     "output_type": "stream",
     "text": [
      "<class 'pandas.core.frame.DataFrame'>\n",
      "RangeIndex: 7042 entries, 0 to 7041\n",
      "Data columns (total 24 columns):\n",
      " #   Column                                    Non-Null Count  Dtype  \n",
      "---  ------                                    --------------  -----  \n",
      " 0   Tenure_Months                             7042 non-null   int64  \n",
      " 1   Monthly_Charges                           7042 non-null   float64\n",
      " 2   Total_Charges                             7042 non-null   float64\n",
      " 3   Churn_Label                               7042 non-null   int8   \n",
      " 4   Churn_Score                               7042 non-null   int64  \n",
      " 5   CLTV                                      7042 non-null   int64  \n",
      " 6   Senior_Citizen_No                         7042 non-null   uint8  \n",
      " 7   Senior_Citizen_Yes                        7042 non-null   uint8  \n",
      " 8   Partner_No                                7042 non-null   uint8  \n",
      " 9   Partner_Yes                               7042 non-null   uint8  \n",
      " 10  Dependents_No                             7042 non-null   uint8  \n",
      " 11  Dependents_Yes                            7042 non-null   uint8  \n",
      " 12  Multiple_Lines_No                         7042 non-null   uint8  \n",
      " 13  Multiple_Lines_No phone service           7042 non-null   uint8  \n",
      " 14  Multiple_Lines_Yes                        7042 non-null   uint8  \n",
      " 15  Contract_Month-to-month                   7042 non-null   uint8  \n",
      " 16  Contract_One year                         7042 non-null   uint8  \n",
      " 17  Contract_Two year                         7042 non-null   uint8  \n",
      " 18  Paperless_Billing_No                      7042 non-null   uint8  \n",
      " 19  Paperless_Billing_Yes                     7042 non-null   uint8  \n",
      " 20  Payment_Method_Bank transfer (automatic)  7042 non-null   uint8  \n",
      " 21  Payment_Method_Credit card (automatic)    7042 non-null   uint8  \n",
      " 22  Payment_Method_Electronic check           7042 non-null   uint8  \n",
      " 23  Payment_Method_Mailed check               7042 non-null   uint8  \n",
      "dtypes: float64(2), int64(3), int8(1), uint8(18)\n",
      "memory usage: 405.9 KB\n"
     ]
    }
   ],
   "source": [
    "df = df.drop(['Gender_Male', 'Gender_Female', 'Phone_Service_No', 'Phone_Service_Yes'], axis=1)\n",
    "df.info()"
   ]
  },
  {
   "cell_type": "code",
   "execution_count": 20,
   "id": "74eceeb6",
   "metadata": {},
   "outputs": [
    {
     "data": {
      "text/plain": [
       "0    5174\n",
       "1    1868\n",
       "Name: Churn_Label, dtype: int64"
      ]
     },
     "execution_count": 20,
     "metadata": {},
     "output_type": "execute_result"
    }
   ],
   "source": [
    "df['Churn_Label'].value_counts()"
   ]
  },
  {
   "cell_type": "code",
   "execution_count": 21,
   "id": "469173e1",
   "metadata": {},
   "outputs": [],
   "source": [
    "X = df.loc[:, df.columns != 'Churn_Label']\n",
    "y = df.loc[:, df.columns == 'Churn_Label']\n",
    "\n",
    "X_train, X_test, y_train, y_test = train_test_split(X,y,test_size=0.3, random_state=0)"
   ]
  },
  {
   "cell_type": "code",
   "execution_count": 22,
   "id": "d1b868a2",
   "metadata": {},
   "outputs": [
    {
     "name": "stderr",
     "output_type": "stream",
     "text": [
      "/opt/homebrew/anaconda3/lib/python3.11/site-packages/scipy/optimize/_linesearch.py:457: LineSearchWarning: The line search algorithm did not converge\n",
      "  warn('The line search algorithm did not converge', LineSearchWarning)\n",
      "/opt/homebrew/anaconda3/lib/python3.11/site-packages/scipy/optimize/_linesearch.py:306: LineSearchWarning: The line search algorithm did not converge\n",
      "  warn('The line search algorithm did not converge', LineSearchWarning)\n",
      "/opt/homebrew/anaconda3/lib/python3.11/site-packages/sklearn/utils/optimize.py:211: ConvergenceWarning: newton-cg failed to converge. Increase the number of iterations.\n",
      "  warnings.warn(\n"
     ]
    },
    {
     "name": "stdout",
     "output_type": "stream",
     "text": [
      "F1-Score: 0.853 (0.036)\n"
     ]
    }
   ],
   "source": [
    "#start = time.process_time()\n",
    "from sklearn.model_selection import KFold\n",
    "from sklearn.model_selection import cross_val_score\n",
    "from sklearn.linear_model import LogisticRegression\n",
    "\n",
    "# prepare the cross-validation procedure\n",
    "cv = KFold(n_splits=10, random_state=1, shuffle=True)\n",
    "\n",
    "# create model\n",
    "model = LogisticRegression(solver='newton-cg')\n",
    "model_res = model.fit(X_train, y_train.values.ravel())\n",
    "y_pred = model_res.predict(X_test)\n",
    "\n",
    "# evaluate model\n",
    "scores = cross_val_score(model, y_test, y_pred, scoring='f1', cv=cv, n_jobs=-1)\n",
    "\n",
    "# print time consumption\n",
    "#lr_time = time.process_time() - start\n",
    "\n",
    "# report performance\n",
    "print('F1-Score: %.3f (%.3f)' % (np.mean(scores), np.std(scores)))"
   ]
  },
  {
   "cell_type": "code",
   "execution_count": 26,
   "id": "c693a12f",
   "metadata": {},
   "outputs": [
    {
     "name": "stdout",
     "output_type": "stream",
     "text": [
      "AIC: 2515.181089819441\n",
      "BIC: 2679.812629812601\n"
     ]
    }
   ],
   "source": [
    "from sklearn.metrics import log_loss\n",
    "import math\n",
    "\n",
    "\n",
    "# Number of parameters (features + intercept)\n",
    "k = X.shape[1] + 1\n",
    "\n",
    "# Log-likelihood of the model\n",
    "y_pred = model.predict_proba(X)\n",
    "log_likelihood = -log_loss(y, y_pred, normalize=False)\n",
    "\n",
    "# Calculate AIC and BIC\n",
    "AIC = 2*k - 2*log_likelihood\n",
    "BIC = -2*log_likelihood + k*math.log(X.shape[0])\n",
    "\n",
    "print(f\"AIC: {AIC}\")\n",
    "print(f\"BIC: {BIC}\")"
   ]
  },
  {
   "cell_type": "code",
   "execution_count": 27,
   "id": "66b9e1b8",
   "metadata": {},
   "outputs": [
    {
     "name": "stdout",
     "output_type": "stream",
     "text": [
      "     Features         AIC         BIC\n",
      "1          x2  141.113016  146.323356\n",
      "2          x3  142.377498  147.587838\n",
      "0          x1  142.400940  147.611280\n",
      "3      x1, x2  143.077195  150.892706\n",
      "5      x2, x3  143.090467  150.905977\n",
      "4      x1, x3  144.332480  152.147990\n",
      "6  x1, x2, x3  145.063250  155.483931\n"
     ]
    }
   ],
   "source": [
    "import pandas as pd\n",
    "import numpy as np\n",
    "from sklearn.linear_model import LogisticRegression\n",
    "from sklearn.metrics import log_loss\n",
    "import math\n",
    "from itertools import combinations\n",
    "\n",
    "# Sample data\n",
    "data = pd.DataFrame({\n",
    "    'x1': np.random.rand(100),\n",
    "    'x2': np.random.rand(100),\n",
    "    'x3': np.random.rand(100),\n",
    "    'y': np.random.randint(0, 2, 100)  # Generating a random binary target variable\n",
    "})\n",
    "\n",
    "# Function to calculate AIC and BIC for multiple combinations of features\n",
    "def calculate_aic_bic(data, target, feature_combinations):\n",
    "    results = []\n",
    "    \n",
    "    for features in feature_combinations:\n",
    "        X = data[list(features)]\n",
    "        y = data[target]\n",
    "\n",
    "        # Fit logistic regression model\n",
    "        model = LogisticRegression()\n",
    "        model.fit(X, y)\n",
    "\n",
    "        # Number of parameters (features + intercept)\n",
    "        k = len(features) + 1\n",
    "\n",
    "        # Calculate log-likelihood\n",
    "        y_pred = model.predict_proba(X)\n",
    "        log_likelihood = -log_loss(y, y_pred, normalize=False)\n",
    "\n",
    "        # Calculate AIC and BIC\n",
    "        AIC = 2*k - 2*log_likelihood\n",
    "        BIC = -2*log_likelihood + k*math.log(len(y))\n",
    "\n",
    "        results.append({\n",
    "            'Features': ', '.join(features),\n",
    "            'AIC': AIC,\n",
    "            'BIC': BIC\n",
    "        })\n",
    "\n",
    "    # Convert results into a DataFrame\n",
    "    results_df = pd.DataFrame(results)\n",
    "    \n",
    "    return results_df\n",
    "\n",
    "# Getting all combinations of features with at least 1 feature\n",
    "features = ['x1', 'x2', 'x3']\n",
    "feature_combinations = [combo for r in range(1, len(features)+1) for combo in combinations(features, r)]\n",
    "\n",
    "# Calculate AIC and BIC for each model\n",
    "aic_bic_df = calculate_aic_bic(data, 'y', feature_combinations)\n",
    "\n",
    "# Print the results\n",
    "print(aic_bic_df.sort_values(by=['AIC', 'BIC']))\n"
   ]
  },
  {
   "cell_type": "code",
   "execution_count": 30,
   "id": "36082cb9",
   "metadata": {},
   "outputs": [
    {
     "ename": "KeyboardInterrupt",
     "evalue": "",
     "output_type": "error",
     "traceback": [
      "\u001b[0;31m---------------------------------------------------------------------------\u001b[0m",
      "\u001b[0;31mKeyboardInterrupt\u001b[0m                         Traceback (most recent call last)",
      "Cell \u001b[0;32mIn[30], line 45\u001b[0m\n\u001b[1;32m     43\u001b[0m \u001b[38;5;66;03m# Calculate AIC and BIC for each model using parallel processing\u001b[39;00m\n\u001b[1;32m     44\u001b[0m \u001b[38;5;28;01mwith\u001b[39;00m concurrent\u001b[38;5;241m.\u001b[39mfutures\u001b[38;5;241m.\u001b[39mThreadPoolExecutor() \u001b[38;5;28;01mas\u001b[39;00m executor:\n\u001b[0;32m---> 45\u001b[0m     results \u001b[38;5;241m=\u001b[39m \u001b[38;5;28mlist\u001b[39m(executor\u001b[38;5;241m.\u001b[39mmap(calculate_aic_bic, feature_combinations))\n\u001b[1;32m     47\u001b[0m \u001b[38;5;66;03m# Convert results into a DataFrame and sort by AIC and BIC\u001b[39;00m\n\u001b[1;32m     48\u001b[0m results_df \u001b[38;5;241m=\u001b[39m pd\u001b[38;5;241m.\u001b[39mDataFrame(results)\n",
      "File \u001b[0;32m/opt/homebrew/anaconda3/lib/python3.11/concurrent/futures/_base.py:619\u001b[0m, in \u001b[0;36mExecutor.map.<locals>.result_iterator\u001b[0;34m()\u001b[0m\n\u001b[1;32m    616\u001b[0m \u001b[38;5;28;01mwhile\u001b[39;00m fs:\n\u001b[1;32m    617\u001b[0m     \u001b[38;5;66;03m# Careful not to keep a reference to the popped future\u001b[39;00m\n\u001b[1;32m    618\u001b[0m     \u001b[38;5;28;01mif\u001b[39;00m timeout \u001b[38;5;129;01mis\u001b[39;00m \u001b[38;5;28;01mNone\u001b[39;00m:\n\u001b[0;32m--> 619\u001b[0m         \u001b[38;5;28;01myield\u001b[39;00m _result_or_cancel(fs\u001b[38;5;241m.\u001b[39mpop())\n\u001b[1;32m    620\u001b[0m     \u001b[38;5;28;01melse\u001b[39;00m:\n\u001b[1;32m    621\u001b[0m         \u001b[38;5;28;01myield\u001b[39;00m _result_or_cancel(fs\u001b[38;5;241m.\u001b[39mpop(), end_time \u001b[38;5;241m-\u001b[39m time\u001b[38;5;241m.\u001b[39mmonotonic())\n",
      "File \u001b[0;32m/opt/homebrew/anaconda3/lib/python3.11/concurrent/futures/_base.py:317\u001b[0m, in \u001b[0;36m_result_or_cancel\u001b[0;34m(***failed resolving arguments***)\u001b[0m\n\u001b[1;32m    315\u001b[0m \u001b[38;5;28;01mtry\u001b[39;00m:\n\u001b[1;32m    316\u001b[0m     \u001b[38;5;28;01mtry\u001b[39;00m:\n\u001b[0;32m--> 317\u001b[0m         \u001b[38;5;28;01mreturn\u001b[39;00m fut\u001b[38;5;241m.\u001b[39mresult(timeout)\n\u001b[1;32m    318\u001b[0m     \u001b[38;5;28;01mfinally\u001b[39;00m:\n\u001b[1;32m    319\u001b[0m         fut\u001b[38;5;241m.\u001b[39mcancel()\n",
      "File \u001b[0;32m/opt/homebrew/anaconda3/lib/python3.11/concurrent/futures/_base.py:451\u001b[0m, in \u001b[0;36mFuture.result\u001b[0;34m(self, timeout)\u001b[0m\n\u001b[1;32m    448\u001b[0m \u001b[38;5;28;01melif\u001b[39;00m \u001b[38;5;28mself\u001b[39m\u001b[38;5;241m.\u001b[39m_state \u001b[38;5;241m==\u001b[39m FINISHED:\n\u001b[1;32m    449\u001b[0m     \u001b[38;5;28;01mreturn\u001b[39;00m \u001b[38;5;28mself\u001b[39m\u001b[38;5;241m.\u001b[39m__get_result()\n\u001b[0;32m--> 451\u001b[0m \u001b[38;5;28mself\u001b[39m\u001b[38;5;241m.\u001b[39m_condition\u001b[38;5;241m.\u001b[39mwait(timeout)\n\u001b[1;32m    453\u001b[0m \u001b[38;5;28;01mif\u001b[39;00m \u001b[38;5;28mself\u001b[39m\u001b[38;5;241m.\u001b[39m_state \u001b[38;5;129;01min\u001b[39;00m [CANCELLED, CANCELLED_AND_NOTIFIED]:\n\u001b[1;32m    454\u001b[0m     \u001b[38;5;28;01mraise\u001b[39;00m CancelledError()\n",
      "File \u001b[0;32m/opt/homebrew/anaconda3/lib/python3.11/threading.py:320\u001b[0m, in \u001b[0;36mCondition.wait\u001b[0;34m(self, timeout)\u001b[0m\n\u001b[1;32m    318\u001b[0m \u001b[38;5;28;01mtry\u001b[39;00m:    \u001b[38;5;66;03m# restore state no matter what (e.g., KeyboardInterrupt)\u001b[39;00m\n\u001b[1;32m    319\u001b[0m     \u001b[38;5;28;01mif\u001b[39;00m timeout \u001b[38;5;129;01mis\u001b[39;00m \u001b[38;5;28;01mNone\u001b[39;00m:\n\u001b[0;32m--> 320\u001b[0m         waiter\u001b[38;5;241m.\u001b[39macquire()\n\u001b[1;32m    321\u001b[0m         gotit \u001b[38;5;241m=\u001b[39m \u001b[38;5;28;01mTrue\u001b[39;00m\n\u001b[1;32m    322\u001b[0m     \u001b[38;5;28;01melse\u001b[39;00m:\n",
      "\u001b[0;31mKeyboardInterrupt\u001b[0m: "
     ]
    }
   ],
   "source": [
    "# not working\n",
    "import concurrent.futures\n",
    "\n",
    "\n",
    "# Function to calculate AIC and BIC for a given set of features\n",
    "def calculate_aic_bic(features):\n",
    "    try:\n",
    "        X = df[list(features)]\n",
    "        y = df['Churn_Label']\n",
    "        #X = df.loc[:, df.columns != 'Churn_Label']\n",
    "        #y = df.loc[:, df.columns == 'Churn_Label']\n",
    "        # Fit logistic regression model\n",
    "        model = LogisticRegression(max_iter=1000)\n",
    "        model.fit(X, y)\n",
    "\n",
    "        # Number of parameters (features + intercept)\n",
    "        k = len(features) + 1\n",
    "\n",
    "        # Calculate log-likelihood\n",
    "        y_pred = model.predict_proba(X)\n",
    "        log_likelihood = -log_loss(y, y_pred, normalize=False)\n",
    "\n",
    "        # Calculate AIC and BIC\n",
    "        AIC = 2*k - 2*log_likelihood\n",
    "        BIC = -2*log_likelihood + k*math.log(len(y))\n",
    "\n",
    "        return {\n",
    "            'Features': ', '.join(features),\n",
    "            'AIC': AIC,\n",
    "            'BIC': BIC\n",
    "        }\n",
    "    except Exception as e:\n",
    "        print(f\"Error with features {features}: {e}\")\n",
    "        return None\n",
    "\n",
    "# Getting all combinations of features with at least 1 feature\n",
    "#X = df.loc[:, df.columns != 'Churn_Label']\n",
    "#y = df.loc[:, df.columns == 'Churn_Label']\n",
    "\n",
    "\n",
    "features = df.columns.drop('Churn_Label')\n",
    "feature_combinations = [combo for r in range(1, len(features)+1) for combo in combinations(features, r)]\n",
    "\n",
    "# Calculate AIC and BIC for each model using parallel processing\n",
    "with concurrent.futures.ThreadPoolExecutor() as executor:\n",
    "    results = list(executor.map(calculate_aic_bic, feature_combinations))\n",
    "\n",
    "# Convert results into a DataFrame and sort by AIC and BIC\n",
    "results_df = pd.DataFrame(results)\n",
    "print(results_df.sort_values(by=['AIC', 'BIC']))"
   ]
  }
 ],
 "metadata": {
  "kernelspec": {
   "display_name": "Python 3 (ipykernel)",
   "language": "python",
   "name": "python3"
  },
  "language_info": {
   "codemirror_mode": {
    "name": "ipython",
    "version": 3
   },
   "file_extension": ".py",
   "mimetype": "text/x-python",
   "name": "python",
   "nbconvert_exporter": "python",
   "pygments_lexer": "ipython3",
   "version": "3.11.4"
  }
 },
 "nbformat": 4,
 "nbformat_minor": 5
}
