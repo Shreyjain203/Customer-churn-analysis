{
 "cells": [
  {
   "cell_type": "markdown",
   "id": "7cff1b1b",
   "metadata": {},
   "source": [
    "1. Data Input\n",
    "2. Check Multicolinearity: VIF and GVIF\n",
    "3. Based on the results of Multicolinearity, delete columns\n",
    "4. Check Influential Points: Pearson and Deviance Residual\n",
    "5. Based on the results of influential points, delete index.\n",
    "6. "
   ]
  },
  {
   "cell_type": "code",
   "execution_count": 22,
   "id": "8b3dffc4",
   "metadata": {},
   "outputs": [],
   "source": [
    "import pandas as pd\n",
    "import matplotlib.pyplot as plt\n",
    "import numpy as np\n",
    "import statsmodels.api as sm\n",
    "from sklearn.metrics import confusion_matrix\n",
    "import statsmodels.formula.api as smf\n",
    "from statsmodels.stats.outliers_influence import variance_inflation_factor\n",
    "from patsy import dmatrices\n",
    "import pandas as pd\n",
    "import numpy as np\n",
    "from sklearn.preprocessing import OneHotEncoder\n",
    "from statsmodels.regression.linear_model import OLS\n",
    "from sklearn.model_selection import train_test_split\n",
    "\n",
    "\n",
    "from sklearn.model_selection import KFold\n",
    "from sklearn.model_selection import cross_val_score\n",
    "from sklearn.linear_model import LogisticRegression\n",
    "\n",
    "from sklearn.linear_model import LogisticRegression\n",
    "from sklearn.metrics import classification_report,confusion_matrix,roc_curve,roc_auc_score\n",
    "\n",
    "from sklearn.linear_model import LogisticRegression\n",
    "from sklearn.metrics import classification_report,confusion_matrix,roc_curve,roc_auc_score\n"
   ]
  },
  {
   "cell_type": "code",
   "execution_count": 2,
   "id": "c06fd2f1",
   "metadata": {},
   "outputs": [],
   "source": [
    "# data load\n",
    "df = pd.read_pickle('/Users/sangjun/Desktop/MSDS_Course/MSDS_601/Final_Project/msds601/AfterWrangling.pkl')"
   ]
  },
  {
   "cell_type": "code",
   "execution_count": 3,
   "id": "7acc26b4",
   "metadata": {},
   "outputs": [
    {
     "name": "stdout",
     "output_type": "stream",
     "text": [
      "<class 'pandas.core.frame.DataFrame'>\n",
      "RangeIndex: 7043 entries, 0 to 7042\n",
      "Data columns (total 33 columns):\n",
      " #   Column             Non-Null Count  Dtype  \n",
      "---  ------             --------------  -----  \n",
      " 0   CustomerID         7043 non-null   object \n",
      " 1   Count              7043 non-null   int64  \n",
      " 2   Country            7043 non-null   object \n",
      " 3   State              7043 non-null   object \n",
      " 4   City               7043 non-null   object \n",
      " 5   Zip Code           7043 non-null   int64  \n",
      " 6   Lat Long           7043 non-null   object \n",
      " 7   Latitude           7043 non-null   float64\n",
      " 8   Longitude          7043 non-null   float64\n",
      " 9   Gender             7043 non-null   object \n",
      " 10  Senior Citizen     7043 non-null   object \n",
      " 11  Partner            7043 non-null   object \n",
      " 12  Dependents         7043 non-null   object \n",
      " 13  Tenure Months      7043 non-null   int64  \n",
      " 14  Phone Service      7043 non-null   object \n",
      " 15  Multiple Lines     7043 non-null   object \n",
      " 16  Internet Service   7043 non-null   object \n",
      " 17  Online Security    7043 non-null   object \n",
      " 18  Online Backup      7043 non-null   object \n",
      " 19  Device Protection  7043 non-null   object \n",
      " 20  Tech Support       7043 non-null   object \n",
      " 21  Streaming TV       7043 non-null   object \n",
      " 22  Streaming Movies   7043 non-null   object \n",
      " 23  Contract           7043 non-null   object \n",
      " 24  Paperless Billing  7043 non-null   object \n",
      " 25  Payment Method     7043 non-null   object \n",
      " 26  Monthly Charges    7043 non-null   float64\n",
      " 27  Total Charges      7043 non-null   float64\n",
      " 28  Churn Label        7043 non-null   object \n",
      " 29  Churn Value        7043 non-null   int64  \n",
      " 30  Churn Score        7043 non-null   int64  \n",
      " 31  CLTV               7043 non-null   int64  \n",
      " 32  Churn Reason       1869 non-null   object \n",
      "dtypes: float64(4), int64(6), object(23)\n",
      "memory usage: 1.8+ MB\n"
     ]
    }
   ],
   "source": [
    "df.info()"
   ]
  },
  {
   "cell_type": "code",
   "execution_count": 4,
   "id": "1a0fc3f3",
   "metadata": {},
   "outputs": [
    {
     "name": "stdout",
     "output_type": "stream",
     "text": [
      "<class 'pandas.core.frame.DataFrame'>\n",
      "RangeIndex: 7043 entries, 0 to 7042\n",
      "Data columns (total 22 columns):\n",
      " #   Column             Non-Null Count  Dtype  \n",
      "---  ------             --------------  -----  \n",
      " 0   Gender             7043 non-null   object \n",
      " 1   Senior_Citizen     7043 non-null   object \n",
      " 2   Partner            7043 non-null   object \n",
      " 3   Dependents         7043 non-null   object \n",
      " 4   Tenure_Months      7043 non-null   int64  \n",
      " 5   Phone_Service      7043 non-null   object \n",
      " 6   Multiple_Lines     7043 non-null   object \n",
      " 7   Internet_Service   7043 non-null   object \n",
      " 8   Online_Security    7043 non-null   object \n",
      " 9   Online_Backup      7043 non-null   object \n",
      " 10  Device_Protection  7043 non-null   object \n",
      " 11  Tech_Support       7043 non-null   object \n",
      " 12  Streaming_TV       7043 non-null   object \n",
      " 13  Streaming_Movies   7043 non-null   object \n",
      " 14  Contract           7043 non-null   object \n",
      " 15  Paperless_Billing  7043 non-null   object \n",
      " 16  Payment_Method     7043 non-null   object \n",
      " 17  Monthly_Charges    7043 non-null   float64\n",
      " 18  Total_Charges      7043 non-null   float64\n",
      " 19  Churn_Label        7043 non-null   object \n",
      " 20  Churn_Score        7043 non-null   int64  \n",
      " 21  CLTV               7043 non-null   int64  \n",
      "dtypes: float64(2), int64(3), object(17)\n",
      "memory usage: 1.2+ MB\n"
     ]
    }
   ],
   "source": [
    "df.columns = df.columns.str.replace(' ', '_')\n",
    "df = df.drop(['Churn_Reason', 'CustomerID', 'Country', 'State', \n",
    "              'City', 'Lat_Long', 'Count', 'Latitude', 'Longitude', \n",
    "              'Churn_Value', 'Zip_Code'], axis=1)\n",
    "df.info()"
   ]
  },
  {
   "cell_type": "code",
   "execution_count": 5,
   "id": "05773304",
   "metadata": {},
   "outputs": [
    {
     "data": {
      "text/plain": [
       "Index(['Tenure_Months', 'Monthly_Charges', 'Total_Charges', 'Churn_Score',\n",
       "       'CLTV'],\n",
       "      dtype='object')"
      ]
     },
     "execution_count": 5,
     "metadata": {},
     "output_type": "execute_result"
    }
   ],
   "source": [
    "df_cat_index = df.select_dtypes(include=['object', 'category']).columns\n",
    "df_cat_index\n",
    "\n",
    "df_numeric_index = df.select_dtypes(include=['int', 'float']).columns\n",
    "df_numeric_index"
   ]
  },
  {
   "cell_type": "code",
   "execution_count": 6,
   "id": "37b55070",
   "metadata": {},
   "outputs": [],
   "source": [
    "df_cat = df[df_cat_index]\n",
    "df_numeric = df[df_numeric_index]"
   ]
  },
  {
   "cell_type": "markdown",
   "id": "cdbc1b47",
   "metadata": {},
   "source": [
    "## Check Multicollinearity"
   ]
  },
  {
   "cell_type": "code",
   "execution_count": 7,
   "id": "99a14ae5",
   "metadata": {},
   "outputs": [
    {
     "name": "stdout",
     "output_type": "stream",
     "text": [
      "   VIF Factor         features\n",
      "0   34.186041        Intercept\n",
      "1    5.952947    Tenure_Months\n",
      "2    3.340829  Monthly_Charges\n",
      "3    9.611085    Total_Charges\n",
      "4    1.106657      Churn_Score\n",
      "5    1.189480             CLTV\n"
     ]
    }
   ],
   "source": [
    "# VIF\n",
    "formula = 'Churn_Label ~ Tenure_Months+Monthly_Charges+Total_Charges+Churn_Score+CLTV'\n",
    "y, X = dmatrices(formula, data=df, return_type='dataframe')\n",
    "\n",
    "vif = pd.DataFrame()\n",
    "vif[\"VIF Factor\"] = [variance_inflation_factor(X.values, i) for i in range(X.shape[1])]\n",
    "vif[\"features\"] = X.columns\n",
    "print(vif)"
   ]
  },
  {
   "cell_type": "markdown",
   "id": "34f366a6",
   "metadata": {},
   "source": [
    "Total_Charges is close to 10. It's not a serious multicolinearity problem, but we still have to check later. "
   ]
  },
  {
   "cell_type": "code",
   "execution_count": 8,
   "id": "79ef8112",
   "metadata": {},
   "outputs": [
    {
     "name": "stderr",
     "output_type": "stream",
     "text": [
      "/opt/homebrew/anaconda3/lib/python3.11/site-packages/sklearn/preprocessing/_encoders.py:972: FutureWarning: `sparse` was renamed to `sparse_output` in version 1.2 and will be removed in 1.4. `sparse_output` is ignored unless you leave `sparse` to its default value.\n",
      "  warnings.warn(\n",
      "/var/folders/yx/vpn4pp6d44z8vryqc0zfxyp40000gn/T/ipykernel_51259/3501188714.py:45: RuntimeWarning: divide by zero encountered in scalar divide\n",
      "  gvif = (1 / (1 - rsquared))**(1 / (2 * (model.df_model + 1)))\n",
      "/var/folders/yx/vpn4pp6d44z8vryqc0zfxyp40000gn/T/ipykernel_51259/3501188714.py:45: RuntimeWarning: divide by zero encountered in scalar divide\n",
      "  gvif = (1 / (1 - rsquared))**(1 / (2 * (model.df_model + 1)))\n",
      "/var/folders/yx/vpn4pp6d44z8vryqc0zfxyp40000gn/T/ipykernel_51259/3501188714.py:45: RuntimeWarning: divide by zero encountered in scalar divide\n",
      "  gvif = (1 / (1 - rsquared))**(1 / (2 * (model.df_model + 1)))\n",
      "/var/folders/yx/vpn4pp6d44z8vryqc0zfxyp40000gn/T/ipykernel_51259/3501188714.py:45: RuntimeWarning: divide by zero encountered in scalar divide\n",
      "  gvif = (1 / (1 - rsquared))**(1 / (2 * (model.df_model + 1)))\n",
      "/var/folders/yx/vpn4pp6d44z8vryqc0zfxyp40000gn/T/ipykernel_51259/3501188714.py:45: RuntimeWarning: divide by zero encountered in scalar divide\n",
      "  gvif = (1 / (1 - rsquared))**(1 / (2 * (model.df_model + 1)))\n",
      "/var/folders/yx/vpn4pp6d44z8vryqc0zfxyp40000gn/T/ipykernel_51259/3501188714.py:45: RuntimeWarning: divide by zero encountered in scalar divide\n",
      "  gvif = (1 / (1 - rsquared))**(1 / (2 * (model.df_model + 1)))\n",
      "/var/folders/yx/vpn4pp6d44z8vryqc0zfxyp40000gn/T/ipykernel_51259/3501188714.py:45: RuntimeWarning: divide by zero encountered in scalar divide\n",
      "  gvif = (1 / (1 - rsquared))**(1 / (2 * (model.df_model + 1)))\n"
     ]
    },
    {
     "name": "stdout",
     "output_type": "stream",
     "text": [
      "                                   Feature      GVIF\n",
      "0                              Gender_Male  1.000033\n",
      "1                       Senior_Citizen_Yes  1.003147\n",
      "2                              Partner_Yes  1.006596\n",
      "3                           Dependents_Yes  1.005621\n",
      "4                        Phone_Service_Yes  1.065889\n",
      "5          Multiple_Lines_No phone service  1.018535\n",
      "6                       Multiple_Lines_Yes  1.007627\n",
      "7             Internet_Service_Fiber optic  1.017668\n",
      "8                      Internet_Service_No       inf\n",
      "9      Online_Security_No internet service       inf\n",
      "10                     Online_Security_Yes  1.008107\n",
      "11       Online_Backup_No internet service       inf\n",
      "12                       Online_Backup_Yes  1.007024\n",
      "13   Device_Protection_No internet service       inf\n",
      "14                   Device_Protection_Yes  1.009556\n",
      "15        Tech_Support_No internet service       inf\n",
      "16                        Tech_Support_Yes  1.009884\n",
      "17        Streaming_TV_No internet service       inf\n",
      "18                        Streaming_TV_Yes  1.012015\n",
      "19    Streaming_Movies_No internet service       inf\n",
      "20                    Streaming_Movies_Yes  1.012447\n",
      "21                       Contract_One year  1.008016\n",
      "22                       Contract_Two year  1.016029\n",
      "23                   Paperless_Billing_Yes  1.004567\n",
      "24  Payment_Method_Credit card (automatic)  1.011190\n",
      "25         Payment_Method_Electronic check  1.016619\n",
      "26             Payment_Method_Mailed check  1.014311\n"
     ]
    }
   ],
   "source": [
    "def calculate_gvif(df, response_var):\n",
    "    # Drop rows with any null values\n",
    "    df = df.dropna()\n",
    "\n",
    "    # Handle categorical variables by one-hot encoding\n",
    "    categorical_cols = df.select_dtypes(include=['object', 'category']).columns\n",
    "    if response_var in categorical_cols:\n",
    "        categorical_cols = categorical_cols.drop(response_var)\n",
    "        \n",
    "    if len(categorical_cols) > 0:\n",
    "        encoder = OneHotEncoder(drop='first', sparse=False)\n",
    "        encoded_cols = pd.DataFrame(encoder.fit_transform(df[categorical_cols]))\n",
    "        \n",
    "        # Manually creating feature names for encoded columns\n",
    "        feature_names = [f\"{col}_{category}\" for col, categories in zip(categorical_cols, encoder.categories_) for category in categories[1:]]\n",
    "        encoded_cols.columns = feature_names\n",
    "\n",
    "        df = pd.concat([df.drop(categorical_cols, axis=1), encoded_cols], axis=1)\n",
    "\n",
    "    # Ensure all the predictor variables are numeric\n",
    "    if response_var in df.columns:\n",
    "        predictors = df.columns.drop(response_var)\n",
    "    else:\n",
    "        print(f\"Warning: {response_var} not found in DataFrame. Make sure the response variable is correctly named.\")\n",
    "        return pd.DataFrame(columns=[\"Feature\", \"GVIF\"])\n",
    "        \n",
    "    gvif_data = []\n",
    "\n",
    "    for feature in predictors:\n",
    "        try:\n",
    "            X = df.drop(columns=[feature, response_var])\n",
    "            y = df[feature]\n",
    "\n",
    "            # Split data to avoid multicollinearity\n",
    "            X_train, X_test, y_train, y_test = train_test_split(X, y, test_size=0.2, random_state=42)\n",
    "\n",
    "            model = OLS(y_train, X_train).fit()\n",
    "            rsquared = model.rsquared\n",
    "            gvif = (1 / (1 - rsquared))**(1 / (2 * (model.df_model + 1))) \n",
    "            gvif_data.append((feature, gvif))\n",
    "        except Exception as e:\n",
    "            print(f\"An error occurred when processing the feature {feature}: {e}\")\n",
    "            gvif_data.append((feature, None))\n",
    "\n",
    "    gvif_df = pd.DataFrame(gvif_data, columns=[\"Feature\", \"GVIF\"])\n",
    "    return gvif_df\n",
    "\n",
    "\n",
    "response_var = 'Churn_Label'  # replace with the name of your response variable\n",
    "gvif_values = calculate_gvif(df_cat, response_var)\n",
    "\n",
    "#gvif_values = calculate_gvif(df)\n",
    "print(gvif_values)"
   ]
  },
  {
   "cell_type": "markdown",
   "id": "e676ed29",
   "metadata": {},
   "source": [
    "Categorical variables: Internet_Service, Online_Security, Online_Backup, Device_Protection, Tech_Support, Streaming_TV, and Streaming_Movies have serious multicolinearity issue. Therefore, we are taking out these variables."
   ]
  },
  {
   "cell_type": "markdown",
   "id": "929b009f",
   "metadata": {},
   "source": [
    "### After VIF and GVIF"
   ]
  },
  {
   "cell_type": "code",
   "execution_count": 9,
   "id": "24f64de0",
   "metadata": {},
   "outputs": [
    {
     "name": "stdout",
     "output_type": "stream",
     "text": [
      "<class 'pandas.core.frame.DataFrame'>\n",
      "RangeIndex: 7043 entries, 0 to 7042\n",
      "Data columns (total 15 columns):\n",
      " #   Column             Non-Null Count  Dtype  \n",
      "---  ------             --------------  -----  \n",
      " 0   Gender             7043 non-null   object \n",
      " 1   Senior_Citizen     7043 non-null   object \n",
      " 2   Partner            7043 non-null   object \n",
      " 3   Dependents         7043 non-null   object \n",
      " 4   Tenure_Months      7043 non-null   int64  \n",
      " 5   Phone_Service      7043 non-null   object \n",
      " 6   Multiple_Lines     7043 non-null   object \n",
      " 7   Contract           7043 non-null   object \n",
      " 8   Paperless_Billing  7043 non-null   object \n",
      " 9   Payment_Method     7043 non-null   object \n",
      " 10  Monthly_Charges    7043 non-null   float64\n",
      " 11  Total_Charges      7043 non-null   float64\n",
      " 12  Churn_Label        7043 non-null   object \n",
      " 13  Churn_Score        7043 non-null   int64  \n",
      " 14  CLTV               7043 non-null   int64  \n",
      "dtypes: float64(2), int64(3), object(10)\n",
      "memory usage: 825.5+ KB\n"
     ]
    }
   ],
   "source": [
    "df = df.drop(['Internet_Service', 'Online_Security', 'Online_Backup', 'Device_Protection', \n",
    "              'Tech_Support', 'Streaming_TV', 'Streaming_Movies'], axis=1)\n",
    "df.info()"
   ]
  },
  {
   "cell_type": "markdown",
   "id": "7b440486",
   "metadata": {},
   "source": [
    "## Check Outliers"
   ]
  },
  {
   "cell_type": "code",
   "execution_count": 10,
   "id": "7f107254",
   "metadata": {},
   "outputs": [
    {
     "data": {
      "text/plain": [
       "0       Yes\n",
       "1       Yes\n",
       "2       Yes\n",
       "3       Yes\n",
       "4       Yes\n",
       "       ... \n",
       "7038     No\n",
       "7039     No\n",
       "7040     No\n",
       "7041     No\n",
       "7042     No\n",
       "Name: Churn_Label, Length: 7043, dtype: object"
      ]
     },
     "execution_count": 10,
     "metadata": {},
     "output_type": "execute_result"
    }
   ],
   "source": [
    "df['Churn_Label']"
   ]
  },
  {
   "cell_type": "code",
   "execution_count": 11,
   "id": "a9df537f",
   "metadata": {},
   "outputs": [],
   "source": [
    "df['Churn_Label'] = df['Churn_Label'].astype('category').cat.codes"
   ]
  },
  {
   "cell_type": "code",
   "execution_count": 12,
   "id": "9fa3e4ef",
   "metadata": {},
   "outputs": [
    {
     "name": "stdout",
     "output_type": "stream",
     "text": [
      "Gender                object\n",
      "Senior_Citizen        object\n",
      "Partner               object\n",
      "Dependents            object\n",
      "Tenure_Months          int64\n",
      "Phone_Service         object\n",
      "Multiple_Lines        object\n",
      "Contract              object\n",
      "Paperless_Billing     object\n",
      "Payment_Method        object\n",
      "Monthly_Charges      float64\n",
      "Total_Charges        float64\n",
      "Churn_Label             int8\n",
      "Churn_Score            int64\n",
      "CLTV                   int64\n",
      "dtype: object\n"
     ]
    }
   ],
   "source": [
    "print(df.dtypes)"
   ]
  },
  {
   "cell_type": "code",
   "execution_count": 13,
   "id": "77dc366d",
   "metadata": {},
   "outputs": [
    {
     "name": "stdout",
     "output_type": "stream",
     "text": [
      "<class 'pandas.core.frame.DataFrame'>\n",
      "RangeIndex: 7043 entries, 0 to 7042\n",
      "Data columns (total 28 columns):\n",
      " #   Column                                    Non-Null Count  Dtype  \n",
      "---  ------                                    --------------  -----  \n",
      " 0   Tenure_Months                             7043 non-null   int64  \n",
      " 1   Monthly_Charges                           7043 non-null   float64\n",
      " 2   Total_Charges                             7043 non-null   float64\n",
      " 3   Churn_Label                               7043 non-null   int8   \n",
      " 4   Churn_Score                               7043 non-null   int64  \n",
      " 5   CLTV                                      7043 non-null   int64  \n",
      " 6   Gender_Female                             7043 non-null   uint8  \n",
      " 7   Gender_Male                               7043 non-null   uint8  \n",
      " 8   Senior_Citizen_No                         7043 non-null   uint8  \n",
      " 9   Senior_Citizen_Yes                        7043 non-null   uint8  \n",
      " 10  Partner_No                                7043 non-null   uint8  \n",
      " 11  Partner_Yes                               7043 non-null   uint8  \n",
      " 12  Dependents_No                             7043 non-null   uint8  \n",
      " 13  Dependents_Yes                            7043 non-null   uint8  \n",
      " 14  Phone_Service_No                          7043 non-null   uint8  \n",
      " 15  Phone_Service_Yes                         7043 non-null   uint8  \n",
      " 16  Multiple_Lines_No                         7043 non-null   uint8  \n",
      " 17  Multiple_Lines_No phone service           7043 non-null   uint8  \n",
      " 18  Multiple_Lines_Yes                        7043 non-null   uint8  \n",
      " 19  Contract_Month-to-month                   7043 non-null   uint8  \n",
      " 20  Contract_One year                         7043 non-null   uint8  \n",
      " 21  Contract_Two year                         7043 non-null   uint8  \n",
      " 22  Paperless_Billing_No                      7043 non-null   uint8  \n",
      " 23  Paperless_Billing_Yes                     7043 non-null   uint8  \n",
      " 24  Payment_Method_Bank transfer (automatic)  7043 non-null   uint8  \n",
      " 25  Payment_Method_Credit card (automatic)    7043 non-null   uint8  \n",
      " 26  Payment_Method_Electronic check           7043 non-null   uint8  \n",
      " 27  Payment_Method_Mailed check               7043 non-null   uint8  \n",
      "dtypes: float64(2), int64(3), int8(1), uint8(22)\n",
      "memory usage: 433.4 KB\n"
     ]
    }
   ],
   "source": [
    "df_dummy = pd.get_dummies(df, columns=['Gender', 'Senior_Citizen', 'Partner',\n",
    "                                 'Dependents','Phone_Service','Multiple_Lines',\n",
    "                                'Contract', 'Paperless_Billing', 'Payment_Method'])\n",
    "df_dummy.info()"
   ]
  },
  {
   "cell_type": "code",
   "execution_count": 14,
   "id": "19ab39ca",
   "metadata": {},
   "outputs": [
    {
     "name": "stdout",
     "output_type": "stream",
     "text": [
      "Warning: Maximum number of iterations has been exceeded.\n",
      "         Current function value: 0.175861\n",
      "         Iterations: 35\n",
      "Indices of outliers: (array([  22,   65,  142,  157,  165,  369,  423,  504,  676,  757,  879,\n",
      "        883,  934,  994, 1084, 1088, 1121, 1147, 1243, 1254, 1261, 1378,\n",
      "       1414, 1445, 1457, 1532, 1572, 1584, 1589, 1658, 1696, 1700, 1701,\n",
      "       1721, 1800, 1855, 2086, 2267, 2896, 3559, 3589, 3615, 3922, 3981,\n",
      "       3999, 4012, 4018, 4344, 4355, 4518, 4624, 4714, 4870, 5284, 5570,\n",
      "       5580, 5676, 6145, 6169, 6228, 6811, 6998]),)\n"
     ]
    },
    {
     "name": "stderr",
     "output_type": "stream",
     "text": [
      "/opt/homebrew/anaconda3/lib/python3.11/site-packages/statsmodels/base/model.py:607: ConvergenceWarning: Maximum Likelihood optimization failed to converge. Check mle_retvals\n",
      "  warnings.warn(\"Maximum Likelihood optimization failed to \"\n"
     ]
    }
   ],
   "source": [
    "# Pearson Residual\n",
    "\n",
    "X = df_dummy.drop(columns=['Churn_Label'])\n",
    "y = df_dummy['Churn_Label']\n",
    "\n",
    "\n",
    "X = sm.add_constant(X)  # Adds a constant term to the predictor\n",
    "\n",
    "# Fit model\n",
    "model = sm.Logit(y, X)\n",
    "result = model.fit()\n",
    "\n",
    "# Calculate Pearson residuals\n",
    "pearson_residuals = result.resid_pearson\n",
    "\n",
    "# Set a threshold to identify an outlier\n",
    "threshold = 3   # This is an arbitrary threshold, adjust according to your analysis\n",
    "\n",
    "# Get the indices of the outliers\n",
    "outlier_indices = np.where(np.abs(pearson_residuals) > threshold)\n",
    "\n",
    "# Print the indices of the outliers\n",
    "print(\"Indices of outliers:\", outlier_indices)"
   ]
  },
  {
   "cell_type": "code",
   "execution_count": 15,
   "id": "3000a938",
   "metadata": {},
   "outputs": [
    {
     "name": "stdout",
     "output_type": "stream",
     "text": [
      "Warning: Maximum number of iterations has been exceeded.\n",
      "         Current function value: 0.175861\n",
      "         Iterations: 35\n",
      "Indices of outliers based on deviance residuals: (array([1261]),)\n"
     ]
    },
    {
     "name": "stderr",
     "output_type": "stream",
     "text": [
      "/opt/homebrew/anaconda3/lib/python3.11/site-packages/statsmodels/base/model.py:607: ConvergenceWarning: Maximum Likelihood optimization failed to converge. Check mle_retvals\n",
      "  warnings.warn(\"Maximum Likelihood optimization failed to \"\n"
     ]
    }
   ],
   "source": [
    "# Deviance Residual\n",
    "\n",
    "# Prepare data\n",
    "X = df_dummy.drop(columns=['Churn_Label'])\n",
    "y = df_dummy['Churn_Label']\n",
    "X = sm.add_constant(X)  # Adds a constant term to the predictor\n",
    "\n",
    "# Fit model\n",
    "model = sm.Logit(y, X)\n",
    "result = model.fit()\n",
    "\n",
    "# Calculate Deviance residuals\n",
    "deviance_residuals = result.resid_dev\n",
    "\n",
    "# Set a threshold to identify an outlier\n",
    "threshold = 3   # This is an arbitrary threshold, adjust according to your analysis\n",
    "\n",
    "# Get the indices of the outliers\n",
    "outlier_indices = np.where(np.abs(deviance_residuals) > threshold)\n",
    "\n",
    "# Print the indices of the outliers\n",
    "print(\"Indices of outliers based on deviance residuals:\", outlier_indices)"
   ]
  },
  {
   "cell_type": "markdown",
   "id": "9e954cff",
   "metadata": {},
   "source": [
    "Based on the two results, we decided to take out index 1261."
   ]
  },
  {
   "cell_type": "code",
   "execution_count": 16,
   "id": "7e24ad91",
   "metadata": {},
   "outputs": [
    {
     "name": "stdout",
     "output_type": "stream",
     "text": [
      "<class 'pandas.core.frame.DataFrame'>\n",
      "RangeIndex: 7042 entries, 0 to 7041\n",
      "Data columns (total 15 columns):\n",
      " #   Column             Non-Null Count  Dtype  \n",
      "---  ------             --------------  -----  \n",
      " 0   Gender             7042 non-null   object \n",
      " 1   Senior_Citizen     7042 non-null   object \n",
      " 2   Partner            7042 non-null   object \n",
      " 3   Dependents         7042 non-null   object \n",
      " 4   Tenure_Months      7042 non-null   int64  \n",
      " 5   Phone_Service      7042 non-null   object \n",
      " 6   Multiple_Lines     7042 non-null   object \n",
      " 7   Contract           7042 non-null   object \n",
      " 8   Paperless_Billing  7042 non-null   object \n",
      " 9   Payment_Method     7042 non-null   object \n",
      " 10  Monthly_Charges    7042 non-null   float64\n",
      " 11  Total_Charges      7042 non-null   float64\n",
      " 12  Churn_Label        7042 non-null   int8   \n",
      " 13  Churn_Score        7042 non-null   int64  \n",
      " 14  CLTV               7042 non-null   int64  \n",
      "dtypes: float64(2), int64(3), int8(1), object(9)\n",
      "memory usage: 777.2+ KB\n"
     ]
    }
   ],
   "source": [
    "df = df.drop(1261, errors='ignore')  \n",
    "df = df.reset_index(drop=True)\n",
    "df.info()"
   ]
  },
  {
   "cell_type": "markdown",
   "id": "91980d08",
   "metadata": {},
   "source": [
    "## Model Selection"
   ]
  },
  {
   "cell_type": "markdown",
   "id": "a6bc4075",
   "metadata": {},
   "source": [
    "Compare full model and reduced model.\n",
    "\n",
    "Reduced model will include only significant predictors. "
   ]
  },
  {
   "cell_type": "markdown",
   "id": "f7ba46bc",
   "metadata": {},
   "source": [
    "### Compare by AIC/BIC"
   ]
  },
  {
   "cell_type": "code",
   "execution_count": 20,
   "id": "6032e16a",
   "metadata": {},
   "outputs": [
    {
     "data": {
      "text/html": [
       "<table class=\"simpletable\">\n",
       "<caption>Generalized Linear Model Regression Results</caption>\n",
       "<tr>\n",
       "  <th>Dep. Variable:</th>      <td>Churn_Label</td>   <th>  No. Observations:  </th>  <td>  7042</td> \n",
       "</tr>\n",
       "<tr>\n",
       "  <th>Model:</th>                  <td>GLM</td>       <th>  Df Residuals:      </th>  <td>  7025</td> \n",
       "</tr>\n",
       "<tr>\n",
       "  <th>Model Family:</th>        <td>Binomial</td>     <th>  Df Model:          </th>  <td>    16</td> \n",
       "</tr>\n",
       "<tr>\n",
       "  <th>Link Function:</th>         <td>Logit</td>      <th>  Scale:             </th> <td>  1.0000</td>\n",
       "</tr>\n",
       "<tr>\n",
       "  <th>Method:</th>                <td>IRLS</td>       <th>  Log-Likelihood:    </th> <td> -1274.5</td>\n",
       "</tr>\n",
       "<tr>\n",
       "  <th>Date:</th>            <td>Wed, 11 Oct 2023</td> <th>  Deviance:          </th> <td>  2548.9</td>\n",
       "</tr>\n",
       "<tr>\n",
       "  <th>Time:</th>                <td>14:03:05</td>     <th>  Pearson chi2:      </th> <td>3.25e+03</td>\n",
       "</tr>\n",
       "<tr>\n",
       "  <th>No. Iterations:</th>          <td>8</td>        <th>  Pseudo R-squ. (CS):</th>  <td>0.5484</td> \n",
       "</tr>\n",
       "<tr>\n",
       "  <th>Covariance Type:</th>     <td>nonrobust</td>    <th>                     </th>     <td> </td>   \n",
       "</tr>\n",
       "</table>\n",
       "<table class=\"simpletable\">\n",
       "<tr>\n",
       "                      <td></td>                         <th>coef</th>     <th>std err</th>      <th>z</th>      <th>P>|z|</th>  <th>[0.025</th>    <th>0.975]</th>  \n",
       "</tr>\n",
       "<tr>\n",
       "  <th>Intercept</th>                                 <td>  -10.3154</td> <td>    0.406</td> <td>  -25.401</td> <td> 0.000</td> <td>  -11.111</td> <td>   -9.519</td>\n",
       "</tr>\n",
       "<tr>\n",
       "  <th>Gender[T.Male]</th>                            <td>    0.0065</td> <td>    0.101</td> <td>    0.064</td> <td> 0.949</td> <td>   -0.191</td> <td>    0.204</td>\n",
       "</tr>\n",
       "<tr>\n",
       "  <th>Senior_Citizen[T.Yes]</th>                     <td>    0.4940</td> <td>    0.133</td> <td>    3.703</td> <td> 0.000</td> <td>    0.233</td> <td>    0.755</td>\n",
       "</tr>\n",
       "<tr>\n",
       "  <th>Partner[T.Yes]</th>                            <td>    0.0196</td> <td>    0.109</td> <td>    0.179</td> <td> 0.858</td> <td>   -0.195</td> <td>    0.234</td>\n",
       "</tr>\n",
       "<tr>\n",
       "  <th>Phone_Service[T.Yes]</th>                      <td>   -5.5537</td> <td>    0.224</td> <td>  -24.744</td> <td> 0.000</td> <td>   -5.994</td> <td>   -5.114</td>\n",
       "</tr>\n",
       "<tr>\n",
       "  <th>Multiple_Lines[T.No phone service]</th>        <td>   -4.7617</td> <td>    0.224</td> <td>  -21.213</td> <td> 0.000</td> <td>   -5.202</td> <td>   -4.322</td>\n",
       "</tr>\n",
       "<tr>\n",
       "  <th>Multiple_Lines[T.Yes]</th>                     <td>    0.0666</td> <td>    0.124</td> <td>    0.535</td> <td> 0.593</td> <td>   -0.177</td> <td>    0.310</td>\n",
       "</tr>\n",
       "<tr>\n",
       "  <th>Contract[T.One year]</th>                      <td>   -0.7794</td> <td>    0.156</td> <td>   -4.991</td> <td> 0.000</td> <td>   -1.085</td> <td>   -0.473</td>\n",
       "</tr>\n",
       "<tr>\n",
       "  <th>Contract[T.Two year]</th>                      <td>   -1.6594</td> <td>    0.232</td> <td>   -7.138</td> <td> 0.000</td> <td>   -2.115</td> <td>   -1.204</td>\n",
       "</tr>\n",
       "<tr>\n",
       "  <th>Paperless_Billing[T.Yes]</th>                  <td>    0.5017</td> <td>    0.115</td> <td>    4.373</td> <td> 0.000</td> <td>    0.277</td> <td>    0.727</td>\n",
       "</tr>\n",
       "<tr>\n",
       "  <th>Payment_Method[T.Credit card (automatic)]</th> <td>   -0.1551</td> <td>    0.171</td> <td>   -0.909</td> <td> 0.363</td> <td>   -0.490</td> <td>    0.179</td>\n",
       "</tr>\n",
       "<tr>\n",
       "  <th>Payment_Method[T.Electronic check]</th>        <td>    0.4570</td> <td>    0.144</td> <td>    3.167</td> <td> 0.002</td> <td>    0.174</td> <td>    0.740</td>\n",
       "</tr>\n",
       "<tr>\n",
       "  <th>Payment_Method[T.Mailed check]</th>            <td>   -0.1484</td> <td>    0.175</td> <td>   -0.849</td> <td> 0.396</td> <td>   -0.491</td> <td>    0.194</td>\n",
       "</tr>\n",
       "<tr>\n",
       "  <th>Tenure_Months</th>                             <td>   -0.0520</td> <td>    0.008</td> <td>   -6.251</td> <td> 0.000</td> <td>   -0.068</td> <td>   -0.036</td>\n",
       "</tr>\n",
       "<tr>\n",
       "  <th>Monthly_Charges</th>                           <td>    0.0222</td> <td>    0.003</td> <td>    6.605</td> <td> 0.000</td> <td>    0.016</td> <td>    0.029</td>\n",
       "</tr>\n",
       "<tr>\n",
       "  <th>Total_Charges</th>                             <td>    0.0001</td> <td> 9.59e-05</td> <td>    1.380</td> <td> 0.168</td> <td>-5.56e-05</td> <td>    0.000</td>\n",
       "</tr>\n",
       "<tr>\n",
       "  <th>Churn_Score</th>                               <td>    0.2000</td> <td>    0.007</td> <td>   29.210</td> <td> 0.000</td> <td>    0.187</td> <td>    0.213</td>\n",
       "</tr>\n",
       "<tr>\n",
       "  <th>CLTV</th>                                      <td> 2.175e-05</td> <td> 4.46e-05</td> <td>    0.487</td> <td> 0.626</td> <td>-6.58e-05</td> <td>    0.000</td>\n",
       "</tr>\n",
       "</table>"
      ],
      "text/latex": [
       "\\begin{center}\n",
       "\\begin{tabular}{lclc}\n",
       "\\toprule\n",
       "\\textbf{Dep. Variable:}                             &   Churn\\_Label   & \\textbf{  No. Observations:  } &     7042    \\\\\n",
       "\\textbf{Model:}                                     &       GLM        & \\textbf{  Df Residuals:      } &     7025    \\\\\n",
       "\\textbf{Model Family:}                              &     Binomial     & \\textbf{  Df Model:          } &       16    \\\\\n",
       "\\textbf{Link Function:}                             &      Logit       & \\textbf{  Scale:             } &    1.0000   \\\\\n",
       "\\textbf{Method:}                                    &       IRLS       & \\textbf{  Log-Likelihood:    } &   -1274.5   \\\\\n",
       "\\textbf{Date:}                                      & Wed, 11 Oct 2023 & \\textbf{  Deviance:          } &    2548.9   \\\\\n",
       "\\textbf{Time:}                                      &     14:03:05     & \\textbf{  Pearson chi2:      } &  3.25e+03   \\\\\n",
       "\\textbf{No. Iterations:}                            &        8         & \\textbf{  Pseudo R-squ. (CS):} &   0.5484    \\\\\n",
       "\\textbf{Covariance Type:}                           &    nonrobust     & \\textbf{                     } &             \\\\\n",
       "\\bottomrule\n",
       "\\end{tabular}\n",
       "\\begin{tabular}{lcccccc}\n",
       "                                                    & \\textbf{coef} & \\textbf{std err} & \\textbf{z} & \\textbf{P$> |$z$|$} & \\textbf{[0.025} & \\textbf{0.975]}  \\\\\n",
       "\\midrule\n",
       "\\textbf{Intercept}                                  &     -10.3154  &        0.406     &   -25.401  &         0.000        &      -11.111    &       -9.519     \\\\\n",
       "\\textbf{Gender[T.Male]}                             &       0.0065  &        0.101     &     0.064  &         0.949        &       -0.191    &        0.204     \\\\\n",
       "\\textbf{Senior\\_Citizen[T.Yes]}                     &       0.4940  &        0.133     &     3.703  &         0.000        &        0.233    &        0.755     \\\\\n",
       "\\textbf{Partner[T.Yes]}                             &       0.0196  &        0.109     &     0.179  &         0.858        &       -0.195    &        0.234     \\\\\n",
       "\\textbf{Phone\\_Service[T.Yes]}                      &      -5.5537  &        0.224     &   -24.744  &         0.000        &       -5.994    &       -5.114     \\\\\n",
       "\\textbf{Multiple\\_Lines[T.No phone service]}        &      -4.7617  &        0.224     &   -21.213  &         0.000        &       -5.202    &       -4.322     \\\\\n",
       "\\textbf{Multiple\\_Lines[T.Yes]}                     &       0.0666  &        0.124     &     0.535  &         0.593        &       -0.177    &        0.310     \\\\\n",
       "\\textbf{Contract[T.One year]}                       &      -0.7794  &        0.156     &    -4.991  &         0.000        &       -1.085    &       -0.473     \\\\\n",
       "\\textbf{Contract[T.Two year]}                       &      -1.6594  &        0.232     &    -7.138  &         0.000        &       -2.115    &       -1.204     \\\\\n",
       "\\textbf{Paperless\\_Billing[T.Yes]}                  &       0.5017  &        0.115     &     4.373  &         0.000        &        0.277    &        0.727     \\\\\n",
       "\\textbf{Payment\\_Method[T.Credit card (automatic)]} &      -0.1551  &        0.171     &    -0.909  &         0.363        &       -0.490    &        0.179     \\\\\n",
       "\\textbf{Payment\\_Method[T.Electronic check]}        &       0.4570  &        0.144     &     3.167  &         0.002        &        0.174    &        0.740     \\\\\n",
       "\\textbf{Payment\\_Method[T.Mailed check]}            &      -0.1484  &        0.175     &    -0.849  &         0.396        &       -0.491    &        0.194     \\\\\n",
       "\\textbf{Tenure\\_Months}                             &      -0.0520  &        0.008     &    -6.251  &         0.000        &       -0.068    &       -0.036     \\\\\n",
       "\\textbf{Monthly\\_Charges}                           &       0.0222  &        0.003     &     6.605  &         0.000        &        0.016    &        0.029     \\\\\n",
       "\\textbf{Total\\_Charges}                             &       0.0001  &     9.59e-05     &     1.380  &         0.168        &    -5.56e-05    &        0.000     \\\\\n",
       "\\textbf{Churn\\_Score}                               &       0.2000  &        0.007     &    29.210  &         0.000        &        0.187    &        0.213     \\\\\n",
       "\\textbf{CLTV}                                       &    2.175e-05  &     4.46e-05     &     0.487  &         0.626        &    -6.58e-05    &        0.000     \\\\\n",
       "\\bottomrule\n",
       "\\end{tabular}\n",
       "%\\caption{Generalized Linear Model Regression Results}\n",
       "\\end{center}"
      ],
      "text/plain": [
       "<class 'statsmodels.iolib.summary.Summary'>\n",
       "\"\"\"\n",
       "                 Generalized Linear Model Regression Results                  \n",
       "==============================================================================\n",
       "Dep. Variable:            Churn_Label   No. Observations:                 7042\n",
       "Model:                            GLM   Df Residuals:                     7025\n",
       "Model Family:                Binomial   Df Model:                           16\n",
       "Link Function:                  Logit   Scale:                          1.0000\n",
       "Method:                          IRLS   Log-Likelihood:                -1274.5\n",
       "Date:                Wed, 11 Oct 2023   Deviance:                       2548.9\n",
       "Time:                        14:03:05   Pearson chi2:                 3.25e+03\n",
       "No. Iterations:                     8   Pseudo R-squ. (CS):             0.5484\n",
       "Covariance Type:            nonrobust                                         \n",
       "=============================================================================================================\n",
       "                                                coef    std err          z      P>|z|      [0.025      0.975]\n",
       "-------------------------------------------------------------------------------------------------------------\n",
       "Intercept                                   -10.3154      0.406    -25.401      0.000     -11.111      -9.519\n",
       "Gender[T.Male]                                0.0065      0.101      0.064      0.949      -0.191       0.204\n",
       "Senior_Citizen[T.Yes]                         0.4940      0.133      3.703      0.000       0.233       0.755\n",
       "Partner[T.Yes]                                0.0196      0.109      0.179      0.858      -0.195       0.234\n",
       "Phone_Service[T.Yes]                         -5.5537      0.224    -24.744      0.000      -5.994      -5.114\n",
       "Multiple_Lines[T.No phone service]           -4.7617      0.224    -21.213      0.000      -5.202      -4.322\n",
       "Multiple_Lines[T.Yes]                         0.0666      0.124      0.535      0.593      -0.177       0.310\n",
       "Contract[T.One year]                         -0.7794      0.156     -4.991      0.000      -1.085      -0.473\n",
       "Contract[T.Two year]                         -1.6594      0.232     -7.138      0.000      -2.115      -1.204\n",
       "Paperless_Billing[T.Yes]                      0.5017      0.115      4.373      0.000       0.277       0.727\n",
       "Payment_Method[T.Credit card (automatic)]    -0.1551      0.171     -0.909      0.363      -0.490       0.179\n",
       "Payment_Method[T.Electronic check]            0.4570      0.144      3.167      0.002       0.174       0.740\n",
       "Payment_Method[T.Mailed check]               -0.1484      0.175     -0.849      0.396      -0.491       0.194\n",
       "Tenure_Months                                -0.0520      0.008     -6.251      0.000      -0.068      -0.036\n",
       "Monthly_Charges                               0.0222      0.003      6.605      0.000       0.016       0.029\n",
       "Total_Charges                                 0.0001   9.59e-05      1.380      0.168   -5.56e-05       0.000\n",
       "Churn_Score                                   0.2000      0.007     29.210      0.000       0.187       0.213\n",
       "CLTV                                       2.175e-05   4.46e-05      0.487      0.626   -6.58e-05       0.000\n",
       "=============================================================================================================\n",
       "\"\"\""
      ]
     },
     "execution_count": 20,
     "metadata": {},
     "output_type": "execute_result"
    }
   ],
   "source": [
    "formula = 'Churn_Label ~ Tenure_Months+Monthly_Charges+Total_Charges+Churn_Score+CLTV+Gender+Senior_Citizen+Partner+Phone_Service+Multiple_Lines+Contract+Paperless_Billing+Payment_Method'\n",
    "model = smf.glm(formula = formula, data=df, family=sm.families.Binomial()).fit()\n",
    "model.summary()"
   ]
  },
  {
   "cell_type": "markdown",
   "id": "4c1cc3ec",
   "metadata": {},
   "source": [
    "CLTV, Total_Charges, Gender, Partner"
   ]
  },
  {
   "cell_type": "code",
   "execution_count": 21,
   "id": "a42cda96",
   "metadata": {},
   "outputs": [
    {
     "name": "stdout",
     "output_type": "stream",
     "text": [
      "\n",
      "AIC: 2582.9145756477074\n",
      "BIC: -59690.10910985015\n"
     ]
    },
    {
     "name": "stderr",
     "output_type": "stream",
     "text": [
      "/opt/homebrew/anaconda3/lib/python3.11/site-packages/statsmodels/genmod/generalized_linear_model.py:1838: FutureWarning: The bic value is computed using the deviance formula. After 0.13 this will change to the log-likelihood based formula. This change has no impact on the relative rank of models compared using BIC. You can directly access the log-likelihood version using the `bic_llf` attribute. You can suppress this message by calling statsmodels.genmod.generalized_linear_model.SET_USE_BIC_LLF with True to get the LLF-based version now or False to retainthe deviance version.\n",
      "  warnings.warn(\n"
     ]
    }
   ],
   "source": [
    "print(\"\\nAIC:\", model.aic)\n",
    "print(\"BIC:\", model.bic)"
   ]
  },
  {
   "cell_type": "code",
   "execution_count": 18,
   "id": "0c5ec572",
   "metadata": {},
   "outputs": [
    {
     "data": {
      "text/html": [
       "<table class=\"simpletable\">\n",
       "<caption>Generalized Linear Model Regression Results</caption>\n",
       "<tr>\n",
       "  <th>Dep. Variable:</th>      <td>Churn_Label</td>   <th>  No. Observations:  </th>  <td>  7042</td> \n",
       "</tr>\n",
       "<tr>\n",
       "  <th>Model:</th>                  <td>GLM</td>       <th>  Df Residuals:      </th>  <td>  7029</td> \n",
       "</tr>\n",
       "<tr>\n",
       "  <th>Model Family:</th>        <td>Binomial</td>     <th>  Df Model:          </th>  <td>    12</td> \n",
       "</tr>\n",
       "<tr>\n",
       "  <th>Link Function:</th>         <td>Logit</td>      <th>  Scale:             </th> <td>  1.0000</td>\n",
       "</tr>\n",
       "<tr>\n",
       "  <th>Method:</th>                <td>IRLS</td>       <th>  Log-Likelihood:    </th> <td> -1275.6</td>\n",
       "</tr>\n",
       "<tr>\n",
       "  <th>Date:</th>            <td>Wed, 11 Oct 2023</td> <th>  Deviance:          </th> <td>  2551.3</td>\n",
       "</tr>\n",
       "<tr>\n",
       "  <th>Time:</th>                <td>14:01:16</td>     <th>  Pearson chi2:      </th> <td>3.19e+03</td>\n",
       "</tr>\n",
       "<tr>\n",
       "  <th>No. Iterations:</th>          <td>8</td>        <th>  Pseudo R-squ. (CS):</th>  <td>0.5483</td> \n",
       "</tr>\n",
       "<tr>\n",
       "  <th>Covariance Type:</th>     <td>nonrobust</td>    <th>                     </th>     <td> </td>   \n",
       "</tr>\n",
       "</table>\n",
       "<table class=\"simpletable\">\n",
       "<tr>\n",
       "                      <td></td>                         <th>coef</th>     <th>std err</th>      <th>z</th>      <th>P>|z|</th>  <th>[0.025</th>    <th>0.975]</th>  \n",
       "</tr>\n",
       "<tr>\n",
       "  <th>Intercept</th>                                 <td>  -10.4174</td> <td>    0.366</td> <td>  -28.492</td> <td> 0.000</td> <td>  -11.134</td> <td>   -9.701</td>\n",
       "</tr>\n",
       "<tr>\n",
       "  <th>Senior_Citizen[T.Yes]</th>                     <td>    0.4963</td> <td>    0.133</td> <td>    3.719</td> <td> 0.000</td> <td>    0.235</td> <td>    0.758</td>\n",
       "</tr>\n",
       "<tr>\n",
       "  <th>Phone_Service[T.Yes]</th>                      <td>   -5.5958</td> <td>    0.207</td> <td>  -27.082</td> <td> 0.000</td> <td>   -6.001</td> <td>   -5.191</td>\n",
       "</tr>\n",
       "<tr>\n",
       "  <th>Multiple_Lines[T.No phone service]</th>        <td>   -4.8216</td> <td>    0.205</td> <td>  -23.508</td> <td> 0.000</td> <td>   -5.224</td> <td>   -4.420</td>\n",
       "</tr>\n",
       "<tr>\n",
       "  <th>Multiple_Lines[T.Yes]</th>                     <td>    0.0766</td> <td>    0.124</td> <td>    0.617</td> <td> 0.537</td> <td>   -0.167</td> <td>    0.320</td>\n",
       "</tr>\n",
       "<tr>\n",
       "  <th>Contract[T.One year]</th>                      <td>   -0.7762</td> <td>    0.155</td> <td>   -4.992</td> <td> 0.000</td> <td>   -1.081</td> <td>   -0.471</td>\n",
       "</tr>\n",
       "<tr>\n",
       "  <th>Contract[T.Two year]</th>                      <td>   -1.6268</td> <td>    0.230</td> <td>   -7.084</td> <td> 0.000</td> <td>   -2.077</td> <td>   -1.177</td>\n",
       "</tr>\n",
       "<tr>\n",
       "  <th>Paperless_Billing[T.Yes]</th>                  <td>    0.4986</td> <td>    0.114</td> <td>    4.366</td> <td> 0.000</td> <td>    0.275</td> <td>    0.722</td>\n",
       "</tr>\n",
       "<tr>\n",
       "  <th>Payment_Method[T.Credit card (automatic)]</th> <td>   -0.1583</td> <td>    0.170</td> <td>   -0.929</td> <td> 0.353</td> <td>   -0.492</td> <td>    0.176</td>\n",
       "</tr>\n",
       "<tr>\n",
       "  <th>Payment_Method[T.Electronic check]</th>        <td>    0.4549</td> <td>    0.144</td> <td>    3.156</td> <td> 0.002</td> <td>    0.172</td> <td>    0.737</td>\n",
       "</tr>\n",
       "<tr>\n",
       "  <th>Payment_Method[T.Mailed check]</th>            <td>   -0.1184</td> <td>    0.173</td> <td>   -0.686</td> <td> 0.493</td> <td>   -0.457</td> <td>    0.220</td>\n",
       "</tr>\n",
       "<tr>\n",
       "  <th>Tenure_Months</th>                             <td>   -0.0412</td> <td>    0.003</td> <td>  -11.925</td> <td> 0.000</td> <td>   -0.048</td> <td>   -0.034</td>\n",
       "</tr>\n",
       "<tr>\n",
       "  <th>Monthly_Charges</th>                           <td>    0.0251</td> <td>    0.003</td> <td>    9.658</td> <td> 0.000</td> <td>    0.020</td> <td>    0.030</td>\n",
       "</tr>\n",
       "<tr>\n",
       "  <th>Churn_Score</th>                               <td>    0.2005</td> <td>    0.007</td> <td>   29.277</td> <td> 0.000</td> <td>    0.187</td> <td>    0.214</td>\n",
       "</tr>\n",
       "</table>"
      ],
      "text/latex": [
       "\\begin{center}\n",
       "\\begin{tabular}{lclc}\n",
       "\\toprule\n",
       "\\textbf{Dep. Variable:}                             &   Churn\\_Label   & \\textbf{  No. Observations:  } &     7042    \\\\\n",
       "\\textbf{Model:}                                     &       GLM        & \\textbf{  Df Residuals:      } &     7029    \\\\\n",
       "\\textbf{Model Family:}                              &     Binomial     & \\textbf{  Df Model:          } &       12    \\\\\n",
       "\\textbf{Link Function:}                             &      Logit       & \\textbf{  Scale:             } &    1.0000   \\\\\n",
       "\\textbf{Method:}                                    &       IRLS       & \\textbf{  Log-Likelihood:    } &   -1275.6   \\\\\n",
       "\\textbf{Date:}                                      & Wed, 11 Oct 2023 & \\textbf{  Deviance:          } &    2551.3   \\\\\n",
       "\\textbf{Time:}                                      &     14:01:16     & \\textbf{  Pearson chi2:      } &  3.19e+03   \\\\\n",
       "\\textbf{No. Iterations:}                            &        8         & \\textbf{  Pseudo R-squ. (CS):} &   0.5483    \\\\\n",
       "\\textbf{Covariance Type:}                           &    nonrobust     & \\textbf{                     } &             \\\\\n",
       "\\bottomrule\n",
       "\\end{tabular}\n",
       "\\begin{tabular}{lcccccc}\n",
       "                                                    & \\textbf{coef} & \\textbf{std err} & \\textbf{z} & \\textbf{P$> |$z$|$} & \\textbf{[0.025} & \\textbf{0.975]}  \\\\\n",
       "\\midrule\n",
       "\\textbf{Intercept}                                  &     -10.4174  &        0.366     &   -28.492  &         0.000        &      -11.134    &       -9.701     \\\\\n",
       "\\textbf{Senior\\_Citizen[T.Yes]}                     &       0.4963  &        0.133     &     3.719  &         0.000        &        0.235    &        0.758     \\\\\n",
       "\\textbf{Phone\\_Service[T.Yes]}                      &      -5.5958  &        0.207     &   -27.082  &         0.000        &       -6.001    &       -5.191     \\\\\n",
       "\\textbf{Multiple\\_Lines[T.No phone service]}        &      -4.8216  &        0.205     &   -23.508  &         0.000        &       -5.224    &       -4.420     \\\\\n",
       "\\textbf{Multiple\\_Lines[T.Yes]}                     &       0.0766  &        0.124     &     0.617  &         0.537        &       -0.167    &        0.320     \\\\\n",
       "\\textbf{Contract[T.One year]}                       &      -0.7762  &        0.155     &    -4.992  &         0.000        &       -1.081    &       -0.471     \\\\\n",
       "\\textbf{Contract[T.Two year]}                       &      -1.6268  &        0.230     &    -7.084  &         0.000        &       -2.077    &       -1.177     \\\\\n",
       "\\textbf{Paperless\\_Billing[T.Yes]}                  &       0.4986  &        0.114     &     4.366  &         0.000        &        0.275    &        0.722     \\\\\n",
       "\\textbf{Payment\\_Method[T.Credit card (automatic)]} &      -0.1583  &        0.170     &    -0.929  &         0.353        &       -0.492    &        0.176     \\\\\n",
       "\\textbf{Payment\\_Method[T.Electronic check]}        &       0.4549  &        0.144     &     3.156  &         0.002        &        0.172    &        0.737     \\\\\n",
       "\\textbf{Payment\\_Method[T.Mailed check]}            &      -0.1184  &        0.173     &    -0.686  &         0.493        &       -0.457    &        0.220     \\\\\n",
       "\\textbf{Tenure\\_Months}                             &      -0.0412  &        0.003     &   -11.925  &         0.000        &       -0.048    &       -0.034     \\\\\n",
       "\\textbf{Monthly\\_Charges}                           &       0.0251  &        0.003     &     9.658  &         0.000        &        0.020    &        0.030     \\\\\n",
       "\\textbf{Churn\\_Score}                               &       0.2005  &        0.007     &    29.277  &         0.000        &        0.187    &        0.214     \\\\\n",
       "\\bottomrule\n",
       "\\end{tabular}\n",
       "%\\caption{Generalized Linear Model Regression Results}\n",
       "\\end{center}"
      ],
      "text/plain": [
       "<class 'statsmodels.iolib.summary.Summary'>\n",
       "\"\"\"\n",
       "                 Generalized Linear Model Regression Results                  \n",
       "==============================================================================\n",
       "Dep. Variable:            Churn_Label   No. Observations:                 7042\n",
       "Model:                            GLM   Df Residuals:                     7029\n",
       "Model Family:                Binomial   Df Model:                           12\n",
       "Link Function:                  Logit   Scale:                          1.0000\n",
       "Method:                          IRLS   Log-Likelihood:                -1275.6\n",
       "Date:                Wed, 11 Oct 2023   Deviance:                       2551.3\n",
       "Time:                        14:01:16   Pearson chi2:                 3.19e+03\n",
       "No. Iterations:                     8   Pseudo R-squ. (CS):             0.5483\n",
       "Covariance Type:            nonrobust                                         \n",
       "=============================================================================================================\n",
       "                                                coef    std err          z      P>|z|      [0.025      0.975]\n",
       "-------------------------------------------------------------------------------------------------------------\n",
       "Intercept                                   -10.4174      0.366    -28.492      0.000     -11.134      -9.701\n",
       "Senior_Citizen[T.Yes]                         0.4963      0.133      3.719      0.000       0.235       0.758\n",
       "Phone_Service[T.Yes]                         -5.5958      0.207    -27.082      0.000      -6.001      -5.191\n",
       "Multiple_Lines[T.No phone service]           -4.8216      0.205    -23.508      0.000      -5.224      -4.420\n",
       "Multiple_Lines[T.Yes]                         0.0766      0.124      0.617      0.537      -0.167       0.320\n",
       "Contract[T.One year]                         -0.7762      0.155     -4.992      0.000      -1.081      -0.471\n",
       "Contract[T.Two year]                         -1.6268      0.230     -7.084      0.000      -2.077      -1.177\n",
       "Paperless_Billing[T.Yes]                      0.4986      0.114      4.366      0.000       0.275       0.722\n",
       "Payment_Method[T.Credit card (automatic)]    -0.1583      0.170     -0.929      0.353      -0.492       0.176\n",
       "Payment_Method[T.Electronic check]            0.4549      0.144      3.156      0.002       0.172       0.737\n",
       "Payment_Method[T.Mailed check]               -0.1184      0.173     -0.686      0.493      -0.457       0.220\n",
       "Tenure_Months                                -0.0412      0.003    -11.925      0.000      -0.048      -0.034\n",
       "Monthly_Charges                               0.0251      0.003      9.658      0.000       0.020       0.030\n",
       "Churn_Score                                   0.2005      0.007     29.277      0.000       0.187       0.214\n",
       "=============================================================================================================\n",
       "\"\"\""
      ]
     },
     "execution_count": 18,
     "metadata": {},
     "output_type": "execute_result"
    }
   ],
   "source": [
    "formula = 'Churn_Label ~ Tenure_Months+Monthly_Charges+Churn_Score+Senior_Citizen+Phone_Service+Multiple_Lines+Contract+Paperless_Billing+Payment_Method'\n",
    "model = smf.glm(formula = formula, data=df, family=sm.families.Binomial()).fit()\n",
    "model.summary()"
   ]
  },
  {
   "cell_type": "code",
   "execution_count": 19,
   "id": "ca79f678",
   "metadata": {},
   "outputs": [
    {
     "name": "stdout",
     "output_type": "stream",
     "text": [
      "\n",
      "AIC: 2577.2745935113217\n",
      "BIC: -59723.18768198539\n"
     ]
    },
    {
     "name": "stderr",
     "output_type": "stream",
     "text": [
      "/opt/homebrew/anaconda3/lib/python3.11/site-packages/statsmodels/genmod/generalized_linear_model.py:1838: FutureWarning: The bic value is computed using the deviance formula. After 0.13 this will change to the log-likelihood based formula. This change has no impact on the relative rank of models compared using BIC. You can directly access the log-likelihood version using the `bic_llf` attribute. You can suppress this message by calling statsmodels.genmod.generalized_linear_model.SET_USE_BIC_LLF with True to get the LLF-based version now or False to retainthe deviance version.\n",
      "  warnings.warn(\n"
     ]
    }
   ],
   "source": [
    "print(\"\\nAIC:\", model.aic)\n",
    "print(\"BIC:\", model.bic)"
   ]
  },
  {
   "cell_type": "markdown",
   "id": "db323145",
   "metadata": {},
   "source": [
    "results of AIC/BIC are relatively same."
   ]
  },
  {
   "cell_type": "markdown",
   "id": "a5475458",
   "metadata": {},
   "source": [
    "### Compare the results of confusion matrix"
   ]
  },
  {
   "cell_type": "code",
   "execution_count": 26,
   "id": "469173e1",
   "metadata": {},
   "outputs": [],
   "source": [
    "X = df_dummy.loc[:, df_dummy.columns != 'Churn_Label']\n",
    "y = df_dummy.loc[:, df_dummy.columns == 'Churn_Label']\n",
    "X_train, X_test, y_train, y_test = train_test_split(X,y,test_size=0.3, random_state=0)"
   ]
  },
  {
   "cell_type": "code",
   "execution_count": 30,
   "id": "0ad66696",
   "metadata": {},
   "outputs": [
    {
     "name": "stdout",
     "output_type": "stream",
     "text": [
      "              precision    recall  f1-score   support\n",
      "\n",
      "           0       0.94      0.93      0.93      1559\n",
      "           1       0.81      0.83      0.82       554\n",
      "\n",
      "    accuracy                           0.90      2113\n",
      "   macro avg       0.87      0.88      0.88      2113\n",
      "weighted avg       0.90      0.90      0.90      2113\n",
      "\n",
      "Confusion Matrix:\n",
      "[[1450  109]\n",
      " [  95  459]]\n"
     ]
    },
    {
     "name": "stderr",
     "output_type": "stream",
     "text": [
      "/opt/homebrew/anaconda3/lib/python3.11/site-packages/sklearn/utils/validation.py:1184: DataConversionWarning: A column-vector y was passed when a 1d array was expected. Please change the shape of y to (n_samples, ), for example using ravel().\n",
      "  y = column_or_1d(y, warn=True)\n",
      "/opt/homebrew/anaconda3/lib/python3.11/site-packages/sklearn/linear_model/_logistic.py:460: ConvergenceWarning: lbfgs failed to converge (status=1):\n",
      "STOP: TOTAL NO. of ITERATIONS REACHED LIMIT.\n",
      "\n",
      "Increase the number of iterations (max_iter) or scale the data as shown in:\n",
      "    https://scikit-learn.org/stable/modules/preprocessing.html\n",
      "Please also refer to the documentation for alternative solver options:\n",
      "    https://scikit-learn.org/stable/modules/linear_model.html#logistic-regression\n",
      "  n_iter_i = _check_optimize_result(\n"
     ]
    }
   ],
   "source": [
    "# Create a logistic regression model\n",
    "model = LogisticRegression()\n",
    "\n",
    "# Fit the model\n",
    "model.fit(X_train, y_train)\n",
    "\n",
    "# Get predicted class labels\n",
    "y_pred = model.predict(X_test)\n",
    "\n",
    "# Generate the confusion matrix\n",
    "cm = confusion_matrix(y_test, y_pred)\n",
    "print(classification_report(y_test, y_pred))\n",
    "print(\"Confusion Matrix:\")\n",
    "print(cm)"
   ]
  },
  {
   "cell_type": "code",
   "execution_count": 31,
   "id": "3d77d716",
   "metadata": {},
   "outputs": [],
   "source": [
    "#X = df_dummy.loc[:, df_dummy.columns != 'Churn_Label']\n",
    "\n",
    "X = df_dummy.loc[:, (df_dummy.columns != 'Churn_Label') &\n",
    "                 (df_dummy.columns != 'CLTV') &\n",
    "                 (df_dummy.columns != 'Total_Charges') &\n",
    "                 (df_dummy.columns != 'Gender') &\n",
    "                 (df_dummy.columns != 'Partner')]\n",
    "#CLTV, Total_Charges, Gender, Partner\n",
    "\n",
    "y = df_dummy.loc[:, df_dummy.columns == 'Churn_Label']\n",
    "X_train, X_test, y_train, y_test = train_test_split(X,y,test_size=0.3, random_state=0)"
   ]
  },
  {
   "cell_type": "code",
   "execution_count": 33,
   "id": "794eaade",
   "metadata": {},
   "outputs": [
    {
     "name": "stdout",
     "output_type": "stream",
     "text": [
      "              precision    recall  f1-score   support\n",
      "\n",
      "           0       0.95      0.95      0.95      1559\n",
      "           1       0.86      0.85      0.86       554\n",
      "\n",
      "    accuracy                           0.92      2113\n",
      "   macro avg       0.90      0.90      0.90      2113\n",
      "weighted avg       0.92      0.92      0.92      2113\n",
      "\n",
      "Confusion Matrix:\n",
      "[[1483   76]\n",
      " [  83  471]]\n"
     ]
    },
    {
     "name": "stderr",
     "output_type": "stream",
     "text": [
      "/opt/homebrew/anaconda3/lib/python3.11/site-packages/sklearn/utils/validation.py:1184: DataConversionWarning: A column-vector y was passed when a 1d array was expected. Please change the shape of y to (n_samples, ), for example using ravel().\n",
      "  y = column_or_1d(y, warn=True)\n",
      "/opt/homebrew/anaconda3/lib/python3.11/site-packages/sklearn/linear_model/_logistic.py:460: ConvergenceWarning: lbfgs failed to converge (status=1):\n",
      "STOP: TOTAL NO. of ITERATIONS REACHED LIMIT.\n",
      "\n",
      "Increase the number of iterations (max_iter) or scale the data as shown in:\n",
      "    https://scikit-learn.org/stable/modules/preprocessing.html\n",
      "Please also refer to the documentation for alternative solver options:\n",
      "    https://scikit-learn.org/stable/modules/linear_model.html#logistic-regression\n",
      "  n_iter_i = _check_optimize_result(\n"
     ]
    }
   ],
   "source": [
    "# Create a logistic regression model\n",
    "model = LogisticRegression()\n",
    "\n",
    "# Fit the model\n",
    "model.fit(X_train, y_train)\n",
    "\n",
    "# Get predicted class labels\n",
    "y_pred = model.predict(X_test)\n",
    "\n",
    "# Generate the confusion matrix\n",
    "cm = confusion_matrix(y_test, y_pred)\n",
    "print(classification_report(y_test, y_pred))\n",
    "print(\"Confusion Matrix:\")\n",
    "print(cm)"
   ]
  },
  {
   "cell_type": "markdown",
   "id": "607c8462",
   "metadata": {},
   "source": [
    "Based on the confusion matrix, reduced model is slightly better than full model. "
   ]
  }
 ],
 "metadata": {
  "kernelspec": {
   "display_name": "Python 3 (ipykernel)",
   "language": "python",
   "name": "python3"
  },
  "language_info": {
   "codemirror_mode": {
    "name": "ipython",
    "version": 3
   },
   "file_extension": ".py",
   "mimetype": "text/x-python",
   "name": "python",
   "nbconvert_exporter": "python",
   "pygments_lexer": "ipython3",
   "version": "3.11.4"
  }
 },
 "nbformat": 4,
 "nbformat_minor": 5
}
